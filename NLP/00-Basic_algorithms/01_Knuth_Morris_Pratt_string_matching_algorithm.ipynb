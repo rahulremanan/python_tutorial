{
 "cells": [
  {
   "cell_type": "markdown",
   "id": "7882745b-ad89-4b53-a458-a54787f92794",
   "metadata": {},
   "source": [
    "# Knuth-Morris-Pratt (KMP) string matching algorithm\n",
    "\n",
    "A relatively efficient string matching algorithm, that executes with ```O(m + n)``` complexity, for a pattern string of length ```m``` matched with a given input string of length ```n```; where ```m <= n```."
   ]
  },
  {
   "cell_type": "code",
   "execution_count": 1,
   "id": "535f5981-030a-4a96-b277-d7a07c40c1f1",
   "metadata": {},
   "outputs": [],
   "source": [
    "input_string = 'ababcabcabababd'\n",
    "comparison_string = 'aaabbaaaabd'"
   ]
  },
  {
   "cell_type": "code",
   "execution_count": 2,
   "id": "86b58d47-a286-415b-af7c-ed555f9c034f",
   "metadata": {},
   "outputs": [],
   "source": [
    "import numpy as np"
   ]
  },
  {
   "cell_type": "markdown",
   "id": "9dd5c180-015f-4ed4-bd28-243fdf1e68cb",
   "metadata": {},
   "source": [
    "## Compute Pi-table for string comparison"
   ]
  },
  {
   "cell_type": "code",
   "execution_count": 3,
   "id": "a9fb3767-598e-4d0f-b79f-96e140eb9f2d",
   "metadata": {},
   "outputs": [],
   "source": [
    "def compute_pi_table(input_string:str)->'NumPy array':\n",
    "    pi_table = np.zeros(len(input_string))\n",
    "    init_char = input_string[0]\n",
    "\n",
    "    for i, pi_val in enumerate(pi_table):\n",
    "        match_char = input_string[i]\n",
    "        if i > 0 and pi_table[i - 1] > 0 and match_char == input_string[int(pi_table[i - 1])]:\n",
    "            pi_table[i] = pi_table[i - 1] + 1\n",
    "        elif i > 0 and init_char == match_char:\n",
    "            pi_table[i] = 1\n",
    "\n",
    "    return pi_table"
   ]
  },
  {
   "cell_type": "code",
   "execution_count": 4,
   "id": "0a1da826-5508-479f-8497-cfa9646d3f3d",
   "metadata": {},
   "outputs": [
    {
     "name": "stdout",
     "output_type": "stream",
     "text": [
      "aaabbaaaabd\n"
     ]
    }
   ],
   "source": [
    "print(comparison_string)"
   ]
  },
  {
   "cell_type": "code",
   "execution_count": 5,
   "id": "33961217-da63-4127-8633-4ca3ba4e64f3",
   "metadata": {},
   "outputs": [
    {
     "data": {
      "text/plain": [
       "array([0., 1., 2., 0., 0., 1., 2., 3., 1., 0., 0.])"
      ]
     },
     "execution_count": 5,
     "metadata": {},
     "output_type": "execute_result"
    }
   ],
   "source": [
    "compute_pi_table(comparison_string)"
   ]
  },
  {
   "cell_type": "code",
   "execution_count": 6,
   "id": "6648c746-7285-450f-a8e1-a952dc371640",
   "metadata": {},
   "outputs": [
    {
     "data": {
      "text/plain": [
       "array([0., 1., 0., 1., 0., 1., 0., 1., 2., 3., 0., 1., 2., 3., 4., 1., 2.,\n",
       "       0.])"
      ]
     },
     "execution_count": 6,
     "metadata": {},
     "output_type": "execute_result"
    }
   ],
   "source": [
    "compute_pi_table('aabadadaabeaabaaad')"
   ]
  },
  {
   "cell_type": "code",
   "execution_count": 7,
   "id": "128a3aaf-6a6f-43ba-b5b5-cd0467ec3767",
   "metadata": {},
   "outputs": [
    {
     "data": {
      "text/plain": [
       "array([0., 0., 0., 0., 1., 2., 0., 1., 2., 0.])"
      ]
     },
     "execution_count": 7,
     "metadata": {},
     "output_type": "execute_result"
    }
   ],
   "source": [
    "compute_pi_table('abcdabeabf')"
   ]
  },
  {
   "cell_type": "code",
   "execution_count": 8,
   "id": "5b3a0fd9-9d2d-45aa-aeff-e35c0ec42e07",
   "metadata": {},
   "outputs": [
    {
     "data": {
      "text/plain": [
       "array([0., 0., 0., 0., 0., 1., 2., 0., 1., 2., 3., 1., 2., 3.])"
      ]
     },
     "execution_count": 8,
     "metadata": {},
     "output_type": "execute_result"
    }
   ],
   "source": [
    "compute_pi_table('abcdeabfabcabc')"
   ]
  },
  {
   "cell_type": "code",
   "execution_count": 9,
   "id": "30debb8c-891c-4ce1-b267-bbd9bc40020a",
   "metadata": {},
   "outputs": [
    {
     "data": {
      "text/plain": [
       "array([0., 1., 2., 0.])"
      ]
     },
     "execution_count": 9,
     "metadata": {},
     "output_type": "execute_result"
    }
   ],
   "source": [
    "compute_pi_table('aaab')"
   ]
  },
  {
   "cell_type": "code",
   "execution_count": 10,
   "id": "ac6b74a5-1d6e-4abb-9887-020435aa2795",
   "metadata": {},
   "outputs": [
    {
     "data": {
      "text/plain": [
       "array([0., 0., 0., 0., 1., 2., 0., 1., 2., 0.])"
      ]
     },
     "execution_count": 10,
     "metadata": {},
     "output_type": "execute_result"
    }
   ],
   "source": [
    "compute_pi_table('abcdabeabf')"
   ]
  },
  {
   "cell_type": "code",
   "execution_count": 11,
   "id": "cd2869ed-dbb1-43fe-af97-63ac973b3f3a",
   "metadata": {},
   "outputs": [
    {
     "data": {
      "text/plain": [
       "array([0., 0., 0., 0., 1., 1., 2., 0., 1., 2., 3.])"
      ]
     },
     "execution_count": 11,
     "metadata": {},
     "output_type": "execute_result"
    }
   ],
   "source": [
    "compute_pi_table('abcdaabfabc')"
   ]
  },
  {
   "cell_type": "code",
   "execution_count": 12,
   "id": "4e11e72f-5d0d-44a3-a006-958d9d3b6030",
   "metadata": {},
   "outputs": [
    {
     "data": {
      "text/plain": [
       "array([0., 1., 0., 0., 1., 0., 1., 2., 3., 0.])"
      ]
     },
     "execution_count": 12,
     "metadata": {},
     "output_type": "execute_result"
    }
   ],
   "source": [
    "compute_pi_table('aabcadaabe')"
   ]
  },
  {
   "cell_type": "code",
   "execution_count": 13,
   "id": "c170d882-a390-42b1-a1d5-a410e7f02743",
   "metadata": {},
   "outputs": [
    {
     "data": {
      "text/plain": [
       "array([0., 1., 2., 0., 1., 2., 0., 0.])"
      ]
     },
     "execution_count": 13,
     "metadata": {},
     "output_type": "execute_result"
    }
   ],
   "source": [
    "compute_pi_table('aaabaacd')"
   ]
  },
  {
   "cell_type": "markdown",
   "id": "de1592e6-a68e-487e-97b1-cc8bf64b5b0c",
   "metadata": {},
   "source": [
    "## Implementing Knuth-Morris-Pratt (KMP) string matching"
   ]
  },
  {
   "cell_type": "code",
   "execution_count": 14,
   "id": "be0f1793-69a5-4bf1-8911-542cb842fe63",
   "metadata": {},
   "outputs": [],
   "source": [
    "def knuth_morris_pratt_string_match(input_string:str, comparison_string:str)->list:\n",
    "    pi_table = compute_pi_table(comparison_string)\n",
    "    i, j = 0, 0\n",
    "    string_match_index = []\n",
    "\n",
    "    for idx, char_string in enumerate(input_string):\n",
    "        if input_string[i] == comparison_string[j]:\n",
    "            i += 1\n",
    "            j += 1\n",
    "            if j + 1 == len(comparison_string):\n",
    "                string_match_index.append(idx - len(comparison_string) + 1)\n",
    "                j = 0\n",
    "        else:\n",
    "            if j > 0:\n",
    "                j = int(pi_table[j - 1])\n",
    "            else:\n",
    "                j = 0\n",
    "\n",
    "            if j == 0 and idx > 0:\n",
    "                i += 1\n",
    "\n",
    "    return string_match_index"
   ]
  },
  {
   "cell_type": "code",
   "execution_count": 15,
   "id": "80a783d9-6883-4d41-9859-ebfbc1ebca00",
   "metadata": {},
   "outputs": [],
   "source": [
    "match_indices = knuth_morris_pratt_string_match('aaabaaabcadaabeaabcadaabe', 'aabcadaabe')"
   ]
  },
  {
   "cell_type": "code",
   "execution_count": 16,
   "id": "5c425514-638c-48d6-a3be-765576c7f0f9",
   "metadata": {},
   "outputs": [
    {
     "name": "stdout",
     "output_type": "stream",
     "text": [
      "aabcadaabe\n",
      "aabcadaabe\n"
     ]
    }
   ],
   "source": [
    "for mi in match_indices:\n",
    "    print('aaabaaabcadaabeaabcadaabe'[mi : mi + len('aabcadaabe')])"
   ]
  },
  {
   "cell_type": "code",
   "execution_count": null,
   "id": "c1909b1f-54af-4fb7-84b9-b7056f76de02",
   "metadata": {},
   "outputs": [],
   "source": []
  }
 ],
 "metadata": {
  "kernelspec": {
   "display_name": "Python 3 (ipykernel)",
   "language": "python",
   "name": "python3"
  },
  "language_info": {
   "codemirror_mode": {
    "name": "ipython",
    "version": 3
   },
   "file_extension": ".py",
   "mimetype": "text/x-python",
   "name": "python",
   "nbconvert_exporter": "python",
   "pygments_lexer": "ipython3",
   "version": "3.11.5"
  }
 },
 "nbformat": 4,
 "nbformat_minor": 5
}
