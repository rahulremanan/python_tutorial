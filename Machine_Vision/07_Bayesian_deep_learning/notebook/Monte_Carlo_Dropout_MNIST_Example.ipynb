{
  "nbformat": 4,
  "nbformat_minor": 0,
  "metadata": {
    "colab": {
      "name": "Monte_Carlo_Dropout_MNIST_Example",
      "version": "0.3.2",
      "provenance": [],
      "collapsed_sections": []
    },
    "kernelspec": {
      "name": "python3",
      "display_name": "Python 3"
    },
    "accelerator": "GPU"
  },
  "cells": [
    {
      "cell_type": "markdown",
      "metadata": {
        "id": "x9dv1t4DdM4i",
        "colab_type": "text"
      },
      "source": [
        "# Monte Carlo Dropout -- Example Notebook\n",
        "\n",
        "## [Launch this notebook in Google CoLab](https://colab.research.google.com/github/rahulremanan/python_tutorial/blob/master/Machine_Vision/07_Bayesian_deep_learning/notebook/Monte_Carlo_Dropout_MNIST_Example.ipynb)\n",
        "\n",
        "This notebook is a modified fork of the Bayesian MNIST classifier implementation [here](https://github.com/homaralex/mc-dropout-mnist/blob/master/models.py).\n",
        "\n",
        "In this notebook, a Bayesian LeNet model is trained using the [MNIST data](http://yann.lecun.com/exdb/mnist/).\n",
        "\n",
        "A Bayesian inference function generates the mean prediction accuracy and the associated prediction uncertainty of the trained model.\n",
        "\n"
      ]
    },
    {
      "cell_type": "code",
      "metadata": {
        "id": "_8jDtN6S4HyT",
        "colab_type": "code",
        "colab": {}
      },
      "source": [
        "! wget https://media.githubusercontent.com/media/rahulremanan/python_tutorial/master/Machine_Vision/07_Bayesian_deep_learning/weights/bayesianLeNet.h5 -O ./bayesianLeNet.h5"
      ],
      "execution_count": 0,
      "outputs": []
    },
    {
      "cell_type": "markdown",
      "metadata": {
        "id": "pLnTqjMojRVt",
        "colab_type": "text"
      },
      "source": [
        "## Build a Bayesian network\n",
        "\n",
        "The network used in this example is a LeNet."
      ]
    },
    {
      "cell_type": "code",
      "metadata": {
        "id": "Vgj9IWnrd3sM",
        "colab_type": "code",
        "colab": {}
      },
      "source": [
        "from keras import Input, Model\n",
        "from keras.layers import Conv2D, MaxPool2D, Dense, Flatten, Dropout"
      ],
      "execution_count": 0,
      "outputs": []
    },
    {
      "cell_type": "code",
      "metadata": {
        "id": "ln7P1vcAeM47",
        "colab_type": "code",
        "colab": {}
      },
      "source": [
        "def LeNet(input_shape, num_classes):\n",
        "  \n",
        "  inp = Input(shape=input_shape)\n",
        "  \n",
        "  x = Conv2D(filters=20, kernel_size=5, strides=1)(inp)\n",
        "  x = MaxPool2D(pool_size=2, strides=2)(x)\n",
        "  \n",
        "  x = Conv2D(filters=50, kernel_size=5, strides=1)(x)\n",
        "  x = MaxPool2D(pool_size=2, strides=2)(x)\n",
        "  x = Flatten()(x)\n",
        "  \n",
        "  x = Dense(500, activation='relu')(x)\n",
        "  x = Dense(num_classes, activation='softmax')(x)\n",
        "  \n",
        "  return Model(inp, x, name='LeNet')"
      ],
      "execution_count": 0,
      "outputs": []
    },
    {
      "cell_type": "code",
      "metadata": {
        "id": "YFUCr-P9c8Ok",
        "colab_type": "code",
        "colab": {}
      },
      "source": [
        "def bayesianLeNet(input_shape, num_classes, enable_dropout=True):\n",
        "  \"\"\"\n",
        "    An example implementation of a Bayesian LeNet convolutional neural network.\n",
        "    \n",
        "    This network uses the Bayesian approximation by Monte Carlo estimations using dropouts.\n",
        "    \n",
        "    To enable Bayesian approxiamtion, set the enable_dropout flag to True.\n",
        "  \"\"\"\n",
        "  \n",
        "  inp = Input(shape=input_shape)\n",
        "  x = Conv2D(filters=20, kernel_size=5, strides=1)(inp)\n",
        "  \n",
        "  x = Dropout(0.5)(x, training=True)\n",
        "  x = MaxPool2D(pool_size=2, strides=2)(x)\n",
        "  x = Conv2D(filters=50, kernel_size=5, strides=1)(x)\n",
        "  \n",
        "  x = Dropout(0.5)(x, training=enable_dropout)\n",
        "  x = MaxPool2D(pool_size=2, strides=2)(x)\n",
        "  x = Flatten()(x)\n",
        "  \n",
        "  x = Dropout(0.5)(x, training=enable_dropout)\n",
        "  x = Dense(500, activation='relu')(x)\n",
        "  \n",
        "  x = Dropout(0.5)(x, training=enable_dropout)\n",
        "  x = Dense(num_classes, activation='softmax')(x)\n",
        "\n",
        "  return Model(inp, x, name='bayesianLeNet')"
      ],
      "execution_count": 0,
      "outputs": []
    },
    {
      "cell_type": "code",
      "metadata": {
        "id": "tgSEf6cejO6U",
        "colab_type": "code",
        "colab": {}
      },
      "source": [
        "import argparse\n",
        "import os\n",
        "from keras.callbacks import TensorBoard\n",
        "from keras.datasets import mnist\n",
        "from keras import utils\n",
        "import numpy as np\n",
        "from tqdm import tqdm"
      ],
      "execution_count": 0,
      "outputs": []
    },
    {
      "cell_type": "code",
      "metadata": {
        "id": "-A0olNY1jfN4",
        "colab_type": "code",
        "colab": {}
      },
      "source": [
        "TENSORBOARD_DIR = './tensorboard'\n",
        "MODEL_PATH = './bayesianLeNet.h5'"
      ],
      "execution_count": 0,
      "outputs": []
    },
    {
      "cell_type": "code",
      "metadata": {
        "id": "Y8pYfmTqjnCV",
        "colab_type": "code",
        "colab": {}
      },
      "source": [
        "def make_dirs():\n",
        "    if not os.path.isdir(TENSORBOARD_DIR):\n",
        "        os.makedirs(TENSORBOARD_DIR)"
      ],
      "execution_count": 0,
      "outputs": []
    },
    {
      "cell_type": "code",
      "metadata": {
        "id": "40by1IKu5s7r",
        "colab_type": "code",
        "colab": {}
      },
      "source": [
        "make_dirs()"
      ],
      "execution_count": 0,
      "outputs": []
    },
    {
      "cell_type": "code",
      "metadata": {
        "id": "U6GvG2dBjqxR",
        "colab_type": "code",
        "colab": {}
      },
      "source": [
        "def prepare_data():\n",
        "    (X_train, y_train), (X_test, y_test) = mnist.load_data()\n",
        "\n",
        "    X_train = X_train.reshape((X_train.shape[0], X_train.shape[1], X_train.shape[2], 1))\n",
        "    X_train = X_train.astype(np.float32) / 255.\n",
        "    X_test = X_test.reshape((X_test.shape[0], X_test.shape[1], X_test.shape[2], 1))\n",
        "    X_test = X_test.astype(np.float32) / 255.\n",
        "\n",
        "    y_train, y_test = utils.to_categorical(y_train, 10), utils.to_categorical(y_test, 10)\n",
        "\n",
        "    return (X_train, y_train), (X_test, y_test)"
      ],
      "execution_count": 0,
      "outputs": []
    },
    {
      "cell_type": "code",
      "metadata": {
        "id": "k4co5E0fjx0x",
        "colab_type": "code",
        "colab": {}
      },
      "source": [
        "(X_train, y_train), (X_test, y_test) = prepare_data()"
      ],
      "execution_count": 0,
      "outputs": []
    },
    {
      "cell_type": "code",
      "metadata": {
        "id": "vxQsVM4IkQbG",
        "colab_type": "code",
        "colab": {}
      },
      "source": [
        "bayesian_network=True\n",
        "download_weights=True\n",
        "batch_size=1000\n",
        "epochs=10"
      ],
      "execution_count": 0,
      "outputs": []
    },
    {
      "cell_type": "code",
      "metadata": {
        "id": "KmVpQGyTj0qK",
        "colab_type": "code",
        "colab": {}
      },
      "source": [
        "if bayesian_network:\n",
        "  model = bayesianLeNet(input_shape=X_train.shape[1:],\n",
        "                        num_classes=10)\n",
        "else:\n",
        "  model = LeNet(input_shape=X_train.shape[1:],\n",
        "                num_classes=10)"
      ],
      "execution_count": 0,
      "outputs": []
    },
    {
      "cell_type": "markdown",
      "metadata": {
        "id": "ArCgOvnF2M4U",
        "colab_type": "text"
      },
      "source": [
        "## Compile model"
      ]
    },
    {
      "cell_type": "code",
      "metadata": {
        "id": "_491tmClkOu9",
        "colab_type": "code",
        "colab": {}
      },
      "source": [
        "model.compile(optimizer='adam', \n",
        "              loss='categorical_crossentropy', \n",
        "              metrics=['acc'])"
      ],
      "execution_count": 0,
      "outputs": []
    },
    {
      "cell_type": "markdown",
      "metadata": {
        "id": "G4uGrJIh2Kmn",
        "colab_type": "text"
      },
      "source": [
        "## Load model weights"
      ]
    },
    {
      "cell_type": "code",
      "metadata": {
        "id": "RhkkfSsS1S14",
        "colab_type": "code",
        "colab": {}
      },
      "source": [
        "if os.path.exists(MODEL_PATH):\n",
        "  model.load_weights(MODEL_PATH)\n",
        "  print ('Loaded model weights from: {}'.format(MODEL_PATH))"
      ],
      "execution_count": 0,
      "outputs": []
    },
    {
      "cell_type": "markdown",
      "metadata": {
        "id": "ERdm8svAkd95",
        "colab_type": "text"
      },
      "source": [
        "## Train a Bayesian network"
      ]
    },
    {
      "cell_type": "code",
      "metadata": {
        "id": "FKETEhsIkZy1",
        "colab_type": "code",
        "colab": {}
      },
      "source": [
        "model.fit(x=X_train,\n",
        "          y=y_train,\n",
        "          batch_size=batch_size,\n",
        "          epochs=epochs,\n",
        "          validation_data=(X_test, \n",
        "                           y_test),\n",
        "          callbacks=[TensorBoard(log_dir=os.path.join(TENSORBOARD_DIR, \n",
        "                                                      model.name), \n",
        "                                 write_images=True)])"
      ],
      "execution_count": 0,
      "outputs": []
    },
    {
      "cell_type": "markdown",
      "metadata": {
        "id": "o5-qQGAclbki",
        "colab_type": "text"
      },
      "source": [
        "## Save model weights"
      ]
    },
    {
      "cell_type": "code",
      "metadata": {
        "id": "P76EJTlvlbJE",
        "colab_type": "code",
        "colab": {}
      },
      "source": [
        "model.save_weights(MODEL_PATH)"
      ],
      "execution_count": 0,
      "outputs": []
    },
    {
      "cell_type": "markdown",
      "metadata": {
        "id": "uvSdjetIlID5",
        "colab_type": "text"
      },
      "source": [
        "## Build a Bayesian inference function"
      ]
    },
    {
      "cell_type": "code",
      "metadata": {
        "id": "PZpfBaVNjt6g",
        "colab_type": "code",
        "colab": {}
      },
      "source": [
        "def bayesianInference(model, X_test, y_test, eval_steps=10):\n",
        "    batch_size = 1000\n",
        "    \n",
        "    bayesian_error = []\n",
        "\n",
        "    for batch_id in tqdm(range(X_test.shape[0] // batch_size)):\n",
        "        # take batch of data\n",
        "        x = X_test[batch_id * batch_size: (batch_id + 1) * batch_size]\n",
        "        # init empty predictions\n",
        "        y_ = np.zeros((eval_steps, batch_size, y_test[0].shape[0]))\n",
        "\n",
        "        for sample_id in range(eval_steps):\n",
        "            # save predictions from a sample pass\n",
        "            y_[sample_id] = model.predict(x, batch_size)\n",
        "\n",
        "        # average over all passes\n",
        "        mean_y = y_.mean(axis=0)\n",
        "        # evaluate against labels\n",
        "        y = y_test[batch_size * batch_id: (batch_id + 1) * batch_size]\n",
        "        # compute error\n",
        "        point_error = np.count_nonzero(np.not_equal(mean_y.argmax(axis=1), y.argmax(axis=1)))\n",
        "        bayesian_error.append(point_error)\n",
        "\n",
        "    mean_error = np.sum(bayesian_error) / X_test.shape[0]\n",
        "    uncertainty = np.std(bayesian_error) / X_test.shape[0]\n",
        "    mean_accuracy = 1 - mean_error\n",
        "\n",
        "    return [mean_accuracy, uncertainty]"
      ],
      "execution_count": 0,
      "outputs": []
    },
    {
      "cell_type": "markdown",
      "metadata": {
        "id": "GRxd-mXu2E-c",
        "colab_type": "text"
      },
      "source": [
        "## Run Bayesian inference"
      ]
    },
    {
      "cell_type": "code",
      "metadata": {
        "id": "VgBg-NBUkqTU",
        "colab_type": "code",
        "colab": {}
      },
      "source": [
        "if bayesian_network:\n",
        "  out = bayesianInference(model, X_test, y_test)\n",
        "  print ('\\n')\n",
        "  print ('\\nValidation accuracy: {} ...'.format(out[0]))\n",
        "  print ('Validation uncertainty: {} ...'.format(out[1]))\n",
        "else:\n",
        "  (_, acc) = model.evaluate(x=X_test,\n",
        "                            y=y_test,\n",
        "                            batch_size=args.batch_size)\n",
        "  print('\\nValidation accuracy: {}'.format(acc))"
      ],
      "execution_count": 0,
      "outputs": []
    },
    {
      "cell_type": "code",
      "metadata": {
        "id": "uN4B04V-4qT1",
        "colab_type": "code",
        "colab": {}
      },
      "source": [
        "if download_weights:\n",
        "  from google.colab import files\n",
        "  files.download(MODEL_PATH)"
      ],
      "execution_count": 0,
      "outputs": []
    }
  ]
}