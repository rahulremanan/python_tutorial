{
  "nbformat": 4,
  "nbformat_minor": 0,
  "metadata": {
    "colab": {
      "name": "One_hot_encoding.ipynb",
      "version": "0.3.2",
      "views": {},
      "default_view": {},
      "provenance": []
    },
    "kernelspec": {
      "name": "python3",
      "display_name": "Python 3"
    }
  },
  "cells": [
    {
      "metadata": {
        "id": "9mJYEZDwvGOC",
        "colab_type": "text"
      },
      "cell_type": "markdown",
      "source": [
        "# One Hot Encoding Tutorial -- Introduction to natural language processing:\n",
        "\n",
        "## Author: [Dr. Rahul Remanan](https://linkedin.com/in/rahulremanan)\n",
        "\n",
        "### CEO and Chief Imagination Officer, [Moad Computer](https://www.moad.computer)\n",
        "\n",
        "### This notebook is a modified fork from [Machine Learning Mastery blog](http://machinelearningmastery.com/how-to-one-hot-encode-sequence-data-in-python/). "
      ]
    },
    {
      "metadata": {
        "id": "UvSQ4-Up3GoQ",
        "colab_type": "text"
      },
      "cell_type": "markdown",
      "source": [
        "### Part 01 -- Basics of one-hot encoding:"
      ]
    },
    {
      "metadata": {
        "id": "DMx5WOq3vjPL",
        "colab_type": "text"
      },
      "cell_type": "markdown",
      "source": [
        "#### Importing dependent libraries:"
      ]
    },
    {
      "metadata": {
        "id": "OVgyMi0avfvO",
        "colab_type": "code",
        "colab": {
          "autoexec": {
            "startup": false,
            "wait_interval": 0
          }
        }
      },
      "cell_type": "code",
      "source": [
        "import numpy as np"
      ],
      "execution_count": 0,
      "outputs": []
    },
    {
      "metadata": {
        "id": "VP8fPhRDvt_J",
        "colab_type": "text"
      },
      "cell_type": "markdown",
      "source": [
        "#### Define the input string:"
      ]
    },
    {
      "metadata": {
        "id": "DjtL-o5HvrOy",
        "colab_type": "code",
        "colab": {
          "autoexec": {
            "startup": false,
            "wait_interval": 0
          },
          "base_uri": "https://localhost:8080/",
          "height": 35
        },
        "outputId": "32d1293e-13f4-4521-92f1-7a0acfe62d99",
        "executionInfo": {
          "status": "ok",
          "timestamp": 1528984098085,
          "user_tz": 240,
          "elapsed": 292,
          "user": {
            "displayName": "Moad Computer",
            "photoUrl": "//lh5.googleusercontent.com/-Ic6_gWlgQXo/AAAAAAAAAAI/AAAAAAAAABA/KunqdqgBsx4/s50-c-k-no/photo.jpg",
            "userId": "105137350204760020224"
          }
        }
      },
      "cell_type": "code",
      "source": [
        "data = 'hello world'\n",
        "print(data)"
      ],
      "execution_count": 2,
      "outputs": [
        {
          "output_type": "stream",
          "text": [
            "hello world\n"
          ],
          "name": "stdout"
        }
      ]
    },
    {
      "metadata": {
        "id": "Dj2Aqh3Iv6Jq",
        "colab_type": "text"
      },
      "cell_type": "markdown",
      "source": [
        "#### Define universe of possible input values:"
      ]
    },
    {
      "metadata": {
        "id": "lNr2EH4nv2hp",
        "colab_type": "code",
        "colab": {
          "autoexec": {
            "startup": false,
            "wait_interval": 0
          }
        }
      },
      "cell_type": "code",
      "source": [
        "alphabet = 'abcdefghijklmnopqrstuvwxyz '"
      ],
      "execution_count": 0,
      "outputs": []
    },
    {
      "metadata": {
        "id": "1vHluOaowE9U",
        "colab_type": "text"
      },
      "cell_type": "markdown",
      "source": [
        "#### Define a mapping of characters to corresponding integers:"
      ]
    },
    {
      "metadata": {
        "id": "ZPoBO9wiwBbw",
        "colab_type": "code",
        "colab": {
          "autoexec": {
            "startup": false,
            "wait_interval": 0
          }
        }
      },
      "cell_type": "code",
      "source": [
        "char_to_int = dict((c, i) for i, c in enumerate(alphabet))\n",
        "int_to_char = dict((i, c) for i, c in enumerate(alphabet))"
      ],
      "execution_count": 0,
      "outputs": []
    },
    {
      "metadata": {
        "id": "iOEKp4n-wRsO",
        "colab_type": "text"
      },
      "cell_type": "markdown",
      "source": [
        "#### Integer encoding of the input data:"
      ]
    },
    {
      "metadata": {
        "id": "rd_Ju2cIvcXb",
        "colab_type": "code",
        "colab": {
          "autoexec": {
            "startup": false,
            "wait_interval": 0
          },
          "base_uri": "https://localhost:8080/",
          "height": 35
        },
        "outputId": "02b3e01c-bc6b-48f1-b5c5-413ed62c737f",
        "executionInfo": {
          "status": "ok",
          "timestamp": 1528984103536,
          "user_tz": 240,
          "elapsed": 276,
          "user": {
            "displayName": "Moad Computer",
            "photoUrl": "//lh5.googleusercontent.com/-Ic6_gWlgQXo/AAAAAAAAAAI/AAAAAAAAABA/KunqdqgBsx4/s50-c-k-no/photo.jpg",
            "userId": "105137350204760020224"
          }
        }
      },
      "cell_type": "code",
      "source": [
        "integer_encoded = [char_to_int[char] for char in data]\n",
        "print(integer_encoded)"
      ],
      "execution_count": 5,
      "outputs": [
        {
          "output_type": "stream",
          "text": [
            "[7, 4, 11, 11, 14, 26, 22, 14, 17, 11, 3]\n"
          ],
          "name": "stdout"
        }
      ]
    },
    {
      "metadata": {
        "id": "RVzgpYgvylCI",
        "colab_type": "text"
      },
      "cell_type": "markdown",
      "source": [
        "#### One hot encoding:"
      ]
    },
    {
      "metadata": {
        "id": "G-KW0bF3yYN6",
        "colab_type": "code",
        "colab": {
          "autoexec": {
            "startup": false,
            "wait_interval": 0
          }
        }
      },
      "cell_type": "code",
      "source": [
        "onehot_encoded = list()\n",
        "for value in integer_encoded:\n",
        "\tletter = [0 for _ in range(len(alphabet))]\n",
        "\tletter[value] = 1\n",
        "\tonehot_encoded.append(letter)"
      ],
      "execution_count": 0,
      "outputs": []
    },
    {
      "metadata": {
        "id": "IesXUQnEys7N",
        "colab_type": "code",
        "colab": {
          "autoexec": {
            "startup": false,
            "wait_interval": 0
          },
          "base_uri": "https://localhost:8080/",
          "height": 55
        },
        "outputId": "dccedb8c-a5eb-4489-e2c5-435191e6ce71",
        "executionInfo": {
          "status": "ok",
          "timestamp": 1528984106263,
          "user_tz": 240,
          "elapsed": 269,
          "user": {
            "displayName": "Moad Computer",
            "photoUrl": "//lh5.googleusercontent.com/-Ic6_gWlgQXo/AAAAAAAAAAI/AAAAAAAAABA/KunqdqgBsx4/s50-c-k-no/photo.jpg",
            "userId": "105137350204760020224"
          }
        }
      },
      "cell_type": "code",
      "source": [
        "print(onehot_encoded)"
      ],
      "execution_count": 7,
      "outputs": [
        {
          "output_type": "stream",
          "text": [
            "[[0, 0, 0, 0, 0, 0, 0, 1, 0, 0, 0, 0, 0, 0, 0, 0, 0, 0, 0, 0, 0, 0, 0, 0, 0, 0, 0], [0, 0, 0, 0, 1, 0, 0, 0, 0, 0, 0, 0, 0, 0, 0, 0, 0, 0, 0, 0, 0, 0, 0, 0, 0, 0, 0], [0, 0, 0, 0, 0, 0, 0, 0, 0, 0, 0, 1, 0, 0, 0, 0, 0, 0, 0, 0, 0, 0, 0, 0, 0, 0, 0], [0, 0, 0, 0, 0, 0, 0, 0, 0, 0, 0, 1, 0, 0, 0, 0, 0, 0, 0, 0, 0, 0, 0, 0, 0, 0, 0], [0, 0, 0, 0, 0, 0, 0, 0, 0, 0, 0, 0, 0, 0, 1, 0, 0, 0, 0, 0, 0, 0, 0, 0, 0, 0, 0], [0, 0, 0, 0, 0, 0, 0, 0, 0, 0, 0, 0, 0, 0, 0, 0, 0, 0, 0, 0, 0, 0, 0, 0, 0, 0, 1], [0, 0, 0, 0, 0, 0, 0, 0, 0, 0, 0, 0, 0, 0, 0, 0, 0, 0, 0, 0, 0, 0, 1, 0, 0, 0, 0], [0, 0, 0, 0, 0, 0, 0, 0, 0, 0, 0, 0, 0, 0, 1, 0, 0, 0, 0, 0, 0, 0, 0, 0, 0, 0, 0], [0, 0, 0, 0, 0, 0, 0, 0, 0, 0, 0, 0, 0, 0, 0, 0, 0, 1, 0, 0, 0, 0, 0, 0, 0, 0, 0], [0, 0, 0, 0, 0, 0, 0, 0, 0, 0, 0, 1, 0, 0, 0, 0, 0, 0, 0, 0, 0, 0, 0, 0, 0, 0, 0], [0, 0, 0, 1, 0, 0, 0, 0, 0, 0, 0, 0, 0, 0, 0, 0, 0, 0, 0, 0, 0, 0, 0, 0, 0, 0, 0]]\n"
          ],
          "name": "stdout"
        }
      ]
    },
    {
      "metadata": {
        "id": "Mhtj7weczD5Q",
        "colab_type": "text"
      },
      "cell_type": "markdown",
      "source": [
        "#### Dencoding one hot encoded data -- First character:"
      ]
    },
    {
      "metadata": {
        "id": "ubhyQsrozBDZ",
        "colab_type": "code",
        "colab": {
          "autoexec": {
            "startup": false,
            "wait_interval": 0
          },
          "base_uri": "https://localhost:8080/",
          "height": 35
        },
        "outputId": "d54337cf-3191-4f17-fc72-98967ab369e6",
        "executionInfo": {
          "status": "ok",
          "timestamp": 1528984108576,
          "user_tz": 240,
          "elapsed": 308,
          "user": {
            "displayName": "Moad Computer",
            "photoUrl": "//lh5.googleusercontent.com/-Ic6_gWlgQXo/AAAAAAAAAAI/AAAAAAAAABA/KunqdqgBsx4/s50-c-k-no/photo.jpg",
            "userId": "105137350204760020224"
          }
        }
      },
      "cell_type": "code",
      "source": [
        "inverted = int_to_char[np.argmax(onehot_encoded[0])]\n",
        "print(inverted)"
      ],
      "execution_count": 8,
      "outputs": [
        {
          "output_type": "stream",
          "text": [
            "h\n"
          ],
          "name": "stdout"
        }
      ]
    },
    {
      "metadata": {
        "id": "DQL1yuVvzXjw",
        "colab_type": "text"
      },
      "cell_type": "markdown",
      "source": [
        "#### Dencoding one hot encoded data -- Entire one-hot encoded input:"
      ]
    },
    {
      "metadata": {
        "id": "kj5n83-1zWkm",
        "colab_type": "code",
        "colab": {
          "autoexec": {
            "startup": false,
            "wait_interval": 0
          }
        }
      },
      "cell_type": "code",
      "source": [
        "decoded = list()\n",
        "for i in range(len(onehot_encoded)):\n",
        "  decoded_char = int_to_char[np.argmax(onehot_encoded[i])]\n",
        "  decoded.append(decoded_char)"
      ],
      "execution_count": 0,
      "outputs": []
    },
    {
      "metadata": {
        "id": "x5mb_sDW0cB3",
        "colab_type": "code",
        "colab": {
          "autoexec": {
            "startup": false,
            "wait_interval": 0
          },
          "base_uri": "https://localhost:8080/",
          "height": 35
        },
        "outputId": "f9624fe8-f75e-4371-c71d-acc9b1dfff55",
        "executionInfo": {
          "status": "ok",
          "timestamp": 1528984111613,
          "user_tz": 240,
          "elapsed": 263,
          "user": {
            "displayName": "Moad Computer",
            "photoUrl": "//lh5.googleusercontent.com/-Ic6_gWlgQXo/AAAAAAAAAAI/AAAAAAAAABA/KunqdqgBsx4/s50-c-k-no/photo.jpg",
            "userId": "105137350204760020224"
          }
        }
      },
      "cell_type": "code",
      "source": [
        "print (''.join([str(item) for item in decoded]))"
      ],
      "execution_count": 10,
      "outputs": [
        {
          "output_type": "stream",
          "text": [
            "hello world\n"
          ],
          "name": "stdout"
        }
      ]
    },
    {
      "metadata": {
        "id": "2Jhavbjq24f7",
        "colab_type": "text"
      },
      "cell_type": "markdown",
      "source": [
        "### Part 02a -- One hot encoding using sci-kit learn:"
      ]
    },
    {
      "metadata": {
        "id": "4CaHqz5VCVYs",
        "colab_type": "text"
      },
      "cell_type": "markdown",
      "source": [
        "#### Importing libraries:"
      ]
    },
    {
      "metadata": {
        "id": "NqCK6HuECCcW",
        "colab_type": "code",
        "colab": {
          "autoexec": {
            "startup": false,
            "wait_interval": 0
          }
        }
      },
      "cell_type": "code",
      "source": [
        "from numpy import array\n",
        "from numpy import argmax\n",
        "from sklearn.preprocessing import LabelEncoder\n",
        "from sklearn.preprocessing import OneHotEncoder"
      ],
      "execution_count": 0,
      "outputs": []
    },
    {
      "metadata": {
        "id": "0w5U7_lwCKyW",
        "colab_type": "text"
      },
      "cell_type": "markdown",
      "source": [
        "#### Define example :"
      ]
    },
    {
      "metadata": {
        "id": "ms8vKQ4vCHLo",
        "colab_type": "code",
        "colab": {
          "autoexec": {
            "startup": false,
            "wait_interval": 0
          },
          "base_uri": "https://localhost:8080/",
          "height": 35
        },
        "outputId": "802c8805-7d4a-481c-f6bf-61443d3ed3d6",
        "executionInfo": {
          "status": "ok",
          "timestamp": 1528984115482,
          "user_tz": 240,
          "elapsed": 310,
          "user": {
            "displayName": "Moad Computer",
            "photoUrl": "//lh5.googleusercontent.com/-Ic6_gWlgQXo/AAAAAAAAAAI/AAAAAAAAABA/KunqdqgBsx4/s50-c-k-no/photo.jpg",
            "userId": "105137350204760020224"
          }
        }
      },
      "cell_type": "code",
      "source": [
        "data = ['cold', \n",
        "        'cold', \n",
        "        'warm', \n",
        "        'cold', \n",
        "        'hot', \n",
        "        'hot', \n",
        "        'warm', \n",
        "        'cold', \n",
        "        'warm', \n",
        "        'hot']\n",
        "values = array(data)\n",
        "print(values)"
      ],
      "execution_count": 12,
      "outputs": [
        {
          "output_type": "stream",
          "text": [
            "['cold' 'cold' 'warm' 'cold' 'hot' 'hot' 'warm' 'cold' 'warm' 'hot']\n"
          ],
          "name": "stdout"
        }
      ]
    },
    {
      "metadata": {
        "id": "UNOUvh4UCoI8",
        "colab_type": "text"
      },
      "cell_type": "markdown",
      "source": [
        "#### Integer encoding:"
      ]
    },
    {
      "metadata": {
        "id": "5tIDpP7JClqw",
        "colab_type": "code",
        "colab": {
          "autoexec": {
            "startup": false,
            "wait_interval": 0
          },
          "base_uri": "https://localhost:8080/",
          "height": 35
        },
        "outputId": "f86d2dcb-7485-41c7-c47a-0bf54bb897dc",
        "executionInfo": {
          "status": "ok",
          "timestamp": 1528984117124,
          "user_tz": 240,
          "elapsed": 281,
          "user": {
            "displayName": "Moad Computer",
            "photoUrl": "//lh5.googleusercontent.com/-Ic6_gWlgQXo/AAAAAAAAAAI/AAAAAAAAABA/KunqdqgBsx4/s50-c-k-no/photo.jpg",
            "userId": "105137350204760020224"
          }
        }
      },
      "cell_type": "code",
      "source": [
        "label_encoder = LabelEncoder()\n",
        "label_encoded = label_encoder.fit_transform(values)\n",
        "print(label_encoded)"
      ],
      "execution_count": 13,
      "outputs": [
        {
          "output_type": "stream",
          "text": [
            "[0 0 2 0 1 1 2 0 2 1]\n"
          ],
          "name": "stdout"
        }
      ]
    },
    {
      "metadata": {
        "id": "G1XkNhEaC1Ro",
        "colab_type": "text"
      },
      "cell_type": "markdown",
      "source": [
        "#### Binary encoding:"
      ]
    },
    {
      "metadata": {
        "id": "dQLO3dSgCyre",
        "colab_type": "code",
        "colab": {
          "autoexec": {
            "startup": false,
            "wait_interval": 0
          },
          "base_uri": "https://localhost:8080/",
          "height": 197
        },
        "outputId": "e1c3eb0d-a61a-472b-a68d-5c3f661ff44e",
        "executionInfo": {
          "status": "ok",
          "timestamp": 1528984118903,
          "user_tz": 240,
          "elapsed": 281,
          "user": {
            "displayName": "Moad Computer",
            "photoUrl": "//lh5.googleusercontent.com/-Ic6_gWlgQXo/AAAAAAAAAAI/AAAAAAAAABA/KunqdqgBsx4/s50-c-k-no/photo.jpg",
            "userId": "105137350204760020224"
          }
        }
      },
      "cell_type": "code",
      "source": [
        "onehot_encoder = OneHotEncoder(sparse=False)\n",
        "label_encoded = label_encoded.reshape(len(label_encoded), 1)\n",
        "onehot_encoded = onehot_encoder.fit_transform(label_encoded)\n",
        "print(onehot_encoded)"
      ],
      "execution_count": 14,
      "outputs": [
        {
          "output_type": "stream",
          "text": [
            "[[1. 0. 0.]\n",
            " [1. 0. 0.]\n",
            " [0. 0. 1.]\n",
            " [1. 0. 0.]\n",
            " [0. 1. 0.]\n",
            " [0. 1. 0.]\n",
            " [0. 0. 1.]\n",
            " [1. 0. 0.]\n",
            " [0. 0. 1.]\n",
            " [0. 1. 0.]]\n"
          ],
          "name": "stdout"
        }
      ]
    },
    {
      "metadata": {
        "id": "4DkdN9tQDBto",
        "colab_type": "text"
      },
      "cell_type": "markdown",
      "source": [
        "#### Invert first example:"
      ]
    },
    {
      "metadata": {
        "id": "dLaWB1D82FgB",
        "colab_type": "code",
        "colab": {
          "autoexec": {
            "startup": false,
            "wait_interval": 0
          },
          "base_uri": "https://localhost:8080/",
          "height": 73
        },
        "outputId": "fe38987a-210c-4c17-9c02-7a51ebd45ea1",
        "executionInfo": {
          "status": "ok",
          "timestamp": 1528984121272,
          "user_tz": 240,
          "elapsed": 279,
          "user": {
            "displayName": "Moad Computer",
            "photoUrl": "//lh5.googleusercontent.com/-Ic6_gWlgQXo/AAAAAAAAAAI/AAAAAAAAABA/KunqdqgBsx4/s50-c-k-no/photo.jpg",
            "userId": "105137350204760020224"
          }
        }
      },
      "cell_type": "code",
      "source": [
        "inverted = label_encoder.inverse_transform([argmax(onehot_encoded[0, :])])"
      ],
      "execution_count": 15,
      "outputs": [
        {
          "output_type": "stream",
          "text": [
            "/usr/local/lib/python3.6/dist-packages/sklearn/preprocessing/label.py:151: DeprecationWarning: The truth value of an empty array is ambiguous. Returning False, but in future this will result in an error. Use `array.size > 0` to check that an array is not empty.\n",
            "  if diff:\n"
          ],
          "name": "stderr"
        }
      ]
    },
    {
      "metadata": {
        "id": "900wZKtRDQEH",
        "colab_type": "text"
      },
      "cell_type": "markdown",
      "source": [
        "#### Output the decoded example:"
      ]
    },
    {
      "metadata": {
        "id": "Oe8JhwaADJXQ",
        "colab_type": "code",
        "colab": {
          "autoexec": {
            "startup": false,
            "wait_interval": 0
          },
          "base_uri": "https://localhost:8080/",
          "height": 35
        },
        "outputId": "1e0e27b3-38e2-4b32-9bbe-b98d71703889",
        "executionInfo": {
          "status": "ok",
          "timestamp": 1528984125216,
          "user_tz": 240,
          "elapsed": 270,
          "user": {
            "displayName": "Moad Computer",
            "photoUrl": "//lh5.googleusercontent.com/-Ic6_gWlgQXo/AAAAAAAAAAI/AAAAAAAAABA/KunqdqgBsx4/s50-c-k-no/photo.jpg",
            "userId": "105137350204760020224"
          }
        }
      },
      "cell_type": "code",
      "source": [
        "print(inverted)"
      ],
      "execution_count": 16,
      "outputs": [
        {
          "output_type": "stream",
          "text": [
            "['cold']\n"
          ],
          "name": "stdout"
        }
      ]
    },
    {
      "metadata": {
        "id": "lMfE_hKH3eF_",
        "colab_type": "text"
      },
      "cell_type": "markdown",
      "source": [
        "### Part 02b -- One-hot encode using keras:"
      ]
    },
    {
      "metadata": {
        "id": "b49qSfQ8l8rV",
        "colab_type": "text"
      },
      "cell_type": "markdown",
      "source": [
        "#### Importing libraries:"
      ]
    },
    {
      "metadata": {
        "id": "kmn-9NtNk-T8",
        "colab_type": "code",
        "colab": {
          "autoexec": {
            "startup": false,
            "wait_interval": 0
          },
          "base_uri": "https://localhost:8080/",
          "height": 35
        },
        "outputId": "a58a5fb7-c4ad-4769-bb42-596ac37bc7a3",
        "executionInfo": {
          "status": "ok",
          "timestamp": 1528984130054,
          "user_tz": 240,
          "elapsed": 1886,
          "user": {
            "displayName": "Moad Computer",
            "photoUrl": "//lh5.googleusercontent.com/-Ic6_gWlgQXo/AAAAAAAAAAI/AAAAAAAAABA/KunqdqgBsx4/s50-c-k-no/photo.jpg",
            "userId": "105137350204760020224"
          }
        }
      },
      "cell_type": "code",
      "source": [
        "from numpy import array\n",
        "from numpy import argmax\n",
        "from sklearn.preprocessing import LabelEncoder\n",
        "from sklearn.preprocessing import OneHotEncoder\n",
        "from keras.utils import to_categorical"
      ],
      "execution_count": 17,
      "outputs": [
        {
          "output_type": "stream",
          "text": [
            "Using TensorFlow backend.\n"
          ],
          "name": "stderr"
        }
      ]
    },
    {
      "metadata": {
        "id": "drmDrVDTluO_",
        "colab_type": "text"
      },
      "cell_type": "markdown",
      "source": [
        "#### Define the variable:"
      ]
    },
    {
      "metadata": {
        "id": "oCOLpklqlrlU",
        "colab_type": "code",
        "colab": {
          "autoexec": {
            "startup": false,
            "wait_interval": 0
          },
          "base_uri": "https://localhost:8080/",
          "height": 35
        },
        "outputId": "bb1c5bf9-7921-4b85-9f15-be7619ba5075",
        "executionInfo": {
          "status": "ok",
          "timestamp": 1528984131427,
          "user_tz": 240,
          "elapsed": 309,
          "user": {
            "displayName": "Moad Computer",
            "photoUrl": "//lh5.googleusercontent.com/-Ic6_gWlgQXo/AAAAAAAAAAI/AAAAAAAAABA/KunqdqgBsx4/s50-c-k-no/photo.jpg",
            "userId": "105137350204760020224"
          }
        }
      },
      "cell_type": "code",
      "source": [
        "data = ['cold', 'cold', 'warm', 'cold', 'hot', 'hot', 'warm', 'cold', 'warm', 'hot']\n",
        "values = array(data)\n",
        "print(values)"
      ],
      "execution_count": 18,
      "outputs": [
        {
          "output_type": "stream",
          "text": [
            "['cold' 'cold' 'warm' 'cold' 'hot' 'hot' 'warm' 'cold' 'warm' 'hot']\n"
          ],
          "name": "stdout"
        }
      ]
    },
    {
      "metadata": {
        "id": "V9Pd56WTmKS0",
        "colab_type": "text"
      },
      "cell_type": "markdown",
      "source": [
        "#### Integer encoding:"
      ]
    },
    {
      "metadata": {
        "id": "yeXGmYmKmH-e",
        "colab_type": "code",
        "colab": {
          "autoexec": {
            "startup": false,
            "wait_interval": 0
          }
        }
      },
      "cell_type": "code",
      "source": [
        "label_encoder = LabelEncoder()\n",
        "label_encoded = label_encoder.fit_transform(values)"
      ],
      "execution_count": 0,
      "outputs": []
    },
    {
      "metadata": {
        "id": "03aKToJgjT3x",
        "colab_type": "code",
        "colab": {
          "autoexec": {
            "startup": false,
            "wait_interval": 0
          },
          "base_uri": "https://localhost:8080/",
          "height": 35
        },
        "outputId": "c3557590-3b9f-4e04-dfef-af0c1946c644",
        "executionInfo": {
          "status": "ok",
          "timestamp": 1528984133964,
          "user_tz": 240,
          "elapsed": 285,
          "user": {
            "displayName": "Moad Computer",
            "photoUrl": "//lh5.googleusercontent.com/-Ic6_gWlgQXo/AAAAAAAAAAI/AAAAAAAAABA/KunqdqgBsx4/s50-c-k-no/photo.jpg",
            "userId": "105137350204760020224"
          }
        }
      },
      "cell_type": "code",
      "source": [
        "print(label_encoded)"
      ],
      "execution_count": 20,
      "outputs": [
        {
          "output_type": "stream",
          "text": [
            "[0 0 2 0 1 1 2 0 2 1]\n"
          ],
          "name": "stdout"
        }
      ]
    },
    {
      "metadata": {
        "id": "chAT4G2E3m74",
        "colab_type": "code",
        "colab": {
          "autoexec": {
            "startup": false,
            "wait_interval": 0
          },
          "base_uri": "https://localhost:8080/",
          "height": 253
        },
        "outputId": "7034094e-3083-456c-9dee-5f7905229780",
        "executionInfo": {
          "status": "ok",
          "timestamp": 1528984135193,
          "user_tz": 240,
          "elapsed": 288,
          "user": {
            "displayName": "Moad Computer",
            "photoUrl": "//lh5.googleusercontent.com/-Ic6_gWlgQXo/AAAAAAAAAAI/AAAAAAAAABA/KunqdqgBsx4/s50-c-k-no/photo.jpg",
            "userId": "105137350204760020224"
          }
        }
      },
      "cell_type": "code",
      "source": [
        "# one hot encode\n",
        "encoded = to_categorical(label_encoded)\n",
        "print(encoded)\n",
        "# invert encoding\n",
        "label_encoded = argmax(encoded[0])\n",
        "inverted = label_encoder.inverse_transform(label_encoded)"
      ],
      "execution_count": 21,
      "outputs": [
        {
          "output_type": "stream",
          "text": [
            "[[1. 0. 0.]\n",
            " [1. 0. 0.]\n",
            " [0. 0. 1.]\n",
            " [1. 0. 0.]\n",
            " [0. 1. 0.]\n",
            " [0. 1. 0.]\n",
            " [0. 0. 1.]\n",
            " [1. 0. 0.]\n",
            " [0. 0. 1.]\n",
            " [0. 1. 0.]]\n"
          ],
          "name": "stdout"
        },
        {
          "output_type": "stream",
          "text": [
            "/usr/local/lib/python3.6/dist-packages/sklearn/preprocessing/label.py:151: DeprecationWarning: The truth value of an empty array is ambiguous. Returning False, but in future this will result in an error. Use `array.size > 0` to check that an array is not empty.\n",
            "  if diff:\n"
          ],
          "name": "stderr"
        }
      ]
    },
    {
      "metadata": {
        "id": "n1vehWY6jD64",
        "colab_type": "code",
        "colab": {
          "autoexec": {
            "startup": false,
            "wait_interval": 0
          },
          "base_uri": "https://localhost:8080/",
          "height": 35
        },
        "outputId": "d9aa65b6-c5a4-47bd-ba00-2d198d841a15",
        "executionInfo": {
          "status": "ok",
          "timestamp": 1528984136608,
          "user_tz": 240,
          "elapsed": 272,
          "user": {
            "displayName": "Moad Computer",
            "photoUrl": "//lh5.googleusercontent.com/-Ic6_gWlgQXo/AAAAAAAAAAI/AAAAAAAAABA/KunqdqgBsx4/s50-c-k-no/photo.jpg",
            "userId": "105137350204760020224"
          }
        }
      },
      "cell_type": "code",
      "source": [
        "print(inverted)"
      ],
      "execution_count": 22,
      "outputs": [
        {
          "output_type": "stream",
          "text": [
            "cold\n"
          ],
          "name": "stdout"
        }
      ]
    },
    {
      "metadata": {
        "id": "7zU-Ah3G3uwl",
        "colab_type": "text"
      },
      "cell_type": "markdown",
      "source": [
        "### Part 02c -- One-hot encode using keras for numerical categories:"
      ]
    },
    {
      "metadata": {
        "id": "S0V4wgPXuxJA",
        "colab_type": "code",
        "colab": {
          "autoexec": {
            "startup": false,
            "wait_interval": 0
          },
          "base_uri": "https://localhost:8080/",
          "height": 215
        },
        "outputId": "a60a0cd6-7d98-4422-eb07-2dbe9db0f641",
        "executionInfo": {
          "status": "ok",
          "timestamp": 1528984138581,
          "user_tz": 240,
          "elapsed": 316,
          "user": {
            "displayName": "Moad Computer",
            "photoUrl": "//lh5.googleusercontent.com/-Ic6_gWlgQXo/AAAAAAAAAAI/AAAAAAAAABA/KunqdqgBsx4/s50-c-k-no/photo.jpg",
            "userId": "105137350204760020224"
          }
        }
      },
      "cell_type": "code",
      "source": [
        "from numpy import array\n",
        "from numpy import argmax\n",
        "from keras.utils import to_categorical\n",
        "# define example\n",
        "data = [1, 3, 2, 0, 3, 2, 2, 1, 0, 1]\n",
        "data = array(data)\n",
        "print(data)\n",
        "# one hot encode\n",
        "encoded = to_categorical(data)\n",
        "print(encoded)\n",
        "# invert encoding\n",
        "inverted = argmax(encoded[0])"
      ],
      "execution_count": 23,
      "outputs": [
        {
          "output_type": "stream",
          "text": [
            "[1 3 2 0 3 2 2 1 0 1]\n",
            "[[0. 1. 0. 0.]\n",
            " [0. 0. 0. 1.]\n",
            " [0. 0. 1. 0.]\n",
            " [1. 0. 0. 0.]\n",
            " [0. 0. 0. 1.]\n",
            " [0. 0. 1. 0.]\n",
            " [0. 0. 1. 0.]\n",
            " [0. 1. 0. 0.]\n",
            " [1. 0. 0. 0.]\n",
            " [0. 1. 0. 0.]]\n"
          ],
          "name": "stdout"
        }
      ]
    },
    {
      "metadata": {
        "id": "M4Xroo1L30kn",
        "colab_type": "code",
        "colab": {
          "autoexec": {
            "startup": false,
            "wait_interval": 0
          },
          "base_uri": "https://localhost:8080/",
          "height": 35
        },
        "outputId": "87cb3494-5a5e-40d6-f29a-fba139d6c77f",
        "executionInfo": {
          "status": "ok",
          "timestamp": 1528984139851,
          "user_tz": 240,
          "elapsed": 296,
          "user": {
            "displayName": "Moad Computer",
            "photoUrl": "//lh5.googleusercontent.com/-Ic6_gWlgQXo/AAAAAAAAAAI/AAAAAAAAABA/KunqdqgBsx4/s50-c-k-no/photo.jpg",
            "userId": "105137350204760020224"
          }
        }
      },
      "cell_type": "code",
      "source": [
        "print(inverted)"
      ],
      "execution_count": 24,
      "outputs": [
        {
          "output_type": "stream",
          "text": [
            "1\n"
          ],
          "name": "stdout"
        }
      ]
    }
  ]
}