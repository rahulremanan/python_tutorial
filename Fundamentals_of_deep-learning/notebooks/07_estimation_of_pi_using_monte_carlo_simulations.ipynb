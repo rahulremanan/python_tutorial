{
 "cells": [
  {
   "cell_type": "markdown",
   "id": "0d9df2d1-383d-495b-a709-33fd7b5c7629",
   "metadata": {},
   "source": [
    "# **Estimating the value of mathematical constant pi (π)**"
   ]
  },
  {
   "cell_type": "markdown",
   "id": "feda0b1e-9c37-4256-9229-fc8a6d5f6728",
   "metadata": {},
   "source": [
    "# Import dependencies"
   ]
  },
  {
   "cell_type": "code",
   "execution_count": null,
   "id": "6b5d4639-9e04-4b2e-982e-58fc988e8fc6",
   "metadata": {},
   "outputs": [],
   "source": [
    "import math, random, numpy as np"
   ]
  },
  {
   "cell_type": "markdown",
   "id": "58654f05-6787-4627-aa4e-4466f70de09e",
   "metadata": {},
   "source": [
    "# Introduction to Monte Carlo simulations"
   ]
  },
  {
   "cell_type": "markdown",
   "id": "71fcd74f-5ddc-41ea-ab09-a24a73780715",
   "metadata": {},
   "source": [
    "## Part 1 -- Simulating a six sided regular fair dice"
   ]
  },
  {
   "cell_type": "markdown",
   "id": "ab47d740-5014-4b5e-b28d-7f042226acfe",
   "metadata": {},
   "source": [
    "### Hyper-dimensional dice"
   ]
  },
  {
   "cell_type": "code",
   "execution_count": null,
   "id": "32c8b2c5-873c-420e-a138-c2fc58e09e47",
   "metadata": {},
   "outputs": [],
   "source": [
    "def random_dice_throw(\n",
    "        num_dice_faces:float=2.0,\n",
    "        return_dice_face:bool=False\n",
    "      )->'Either just a boolean value or a tuple with boolean and float values':\n",
    "    '''\n",
    "       A function that returns the win probability for a given                                    \\\n",
    "         hyper-dimensional dice of \"num_dice_faces\".\n",
    "\n",
    "           Arguments of the function:\n",
    "               num_dice_faces:float  -> Accepts fractional values for \"num_dice_faces\".           \\\n",
    "                                          Defaults to 2 if nothing is specified,                  \\\n",
    "                                          mimicking a coin-toss win probability.                  \\\n",
    "               return_dice_face:bool -> Boolean flag that determines whether or not               \\\n",
    "                                          a dice face is returned by the function.                \\\n",
    "                                          An integer output can be computed using                 \\\n",
    "                                          the dice face probability through the ceiling function.\n",
    "\n",
    "           The function returns either just a boolean value when return_probabilities = False,    \\\n",
    "             or returns a tuple with boolean and float values when return_probabilities = True.\n",
    "    '''\n",
    "    assert num_dice_faces > 1, 'Specify a value > 1 for \"num_faces\". Defaults to 2 if nothing is specified, mimicking a coin-toss win probability ...'\n",
    "    rnd_prob = random.SystemRandom().random()\n",
    "    bool_prob = bool(math.ceil(1 / rnd_prob) <= num_dice_faces)\n",
    "    if return_dice_face:\n",
    "        out_prob = bool_prob, rnd_prob * num_dice_faces; del rnd_prob, bool_prob\n",
    "        return out_prob\n",
    "    del rnd_prob\n",
    "    return bool_prob"
   ]
  },
  {
   "cell_type": "code",
   "execution_count": null,
   "id": "e4a10569-876a-4873-b3fc-54be6e9972e1",
   "metadata": {},
   "outputs": [],
   "source": [
    "true_prob = 0\n",
    "num_throws = 100000\n",
    "for i in range(num_throws):\n",
    "    bool_prob, dice_face = random_dice_throw(num_dice_faces=6, return_dice_face=True)\n",
    "    if bool_prob:\n",
    "        true_prob += 1\n",
    "    if (i + 1) % (num_throws * 0.1) == 0:\n",
    "        print(f'Boolean outcome for the {i + 1} attempt: {bool_prob} ...')\n",
    "        print(f'Dice face outcome for the {i + 1} attempt: {math.ceil(dice_face)} ...')\n",
    "        print(f'Expected cumulative probability for the dice throw outcome to be ```True```: {true_prob / (i + 1)} ...')\n",
    "        print(f'Cumulative probability for the dice throw outcome to be ```True```: {true_prob / (i + 1)} ...')\n",
    "        print('\\n')\n",
    "print(true_prob / num_throws)"
   ]
  },
  {
   "cell_type": "markdown",
   "id": "b50d750a-56dc-4cf1-89d5-bdf18e15e175",
   "metadata": {},
   "source": [
    "## Part 2 -- Modeling roulette wheel using Monte Carlo simulations"
   ]
  },
  {
   "cell_type": "markdown",
   "id": "f1dcb7fb-b00c-48f0-a757-186110c05ec0",
   "metadata": {},
   "source": [
    "### Fair Roulette\n",
    "A function that mimicks the behavior of a roulette wheel with 36 slots, each uniquely numbered between 1 through 36."
   ]
  },
  {
   "cell_type": "code",
   "execution_count": null,
   "id": "356f7136-74a4-4175-b6ca-2042e7302c68",
   "metadata": {},
   "outputs": [],
   "source": [
    "class FairRoulette():\n",
    "    def __init__(self):\n",
    "        self.pockets     = [i for i in range(1, 37)]\n",
    "        self.prob        = None\n",
    "        self.ball        = None\n",
    "        self.win         = False \n",
    "        self.pocket_odds = len(self.pockets) - 1\n",
    "    def spin(self):\n",
    "        self.bool_prob, self.prob = random_dice_throw(num_dice_faces=len(self.pockets), return_dice_face=True)\n",
    "        self.ball = math.ceil(self.prob)\n",
    "    def bet_pocket(self, bet_pocket, amount):\n",
    "        assert isinstance(amount, int) or isinstance(amount, float), f'Invalid input for the betting amount: {amount} ...'\n",
    "        assert isinstance(bet_pocket, int), f'Expected an integer value as a bet for the pocket number, instead received: {bet_pocket} ...'\n",
    "        assert 0 < bet_pocket < 37, f'Invalid bet placed for the pocket number: {bet_pocket} ...'\n",
    "        if bet_pocket == self.ball:\n",
    "            self.win = True\n",
    "            return amount * self.pocket_odds, self.ball, self.win\n",
    "        return -amount, self.ball, self.win\n",
    "    def __str__(self):\n",
    "        return 'Fair Roulette'"
   ]
  },
  {
   "cell_type": "code",
   "execution_count": null,
   "id": "96efb364-7c0d-4a5f-a004-55686d24bed7",
   "metadata": {},
   "outputs": [],
   "source": [
    "fair_roulette = FairRoulette()\n",
    "fair_roulette.spin()\n",
    "\n",
    "num_games = 1000000\n",
    "bet_amount_per_game = 100\n",
    "bet_pocket = 1\n",
    "\n",
    "print(fair_roulette.bet_pocket(bet_pocket, bet_amount_per_game))\n",
    "\n",
    "final_outcome_amount = 0\n",
    "total_money_spent = 0\n",
    "for i in range(num_games):\n",
    "    fair_roulette.spin()\n",
    "    total_money_spent += bet_amount_per_game\n",
    "    outcome = fair_roulette.bet_pocket(bet_pocket, bet_amount_per_game)\n",
    "    final_outcome_amount += outcome[0]\n",
    "\n",
    "total_money_lost = total_money_spent - final_outcome_amount\n",
    "print(final_outcome_amount, total_money_spent, total_money_lost)"
   ]
  },
  {
   "cell_type": "markdown",
   "id": "5827a06c-f6df-479e-9a25-dd66bffe1428",
   "metadata": {},
   "source": [
    "# Estimating π using algebraic techniques"
   ]
  },
  {
   "cell_type": "markdown",
   "id": "7487e638-6b27-40d1-ab93-106398cd8c40",
   "metadata": {},
   "source": [
    "## Part 1 -- Using [Wallis integrals](https://en.wikipedia.org/wiki/Wallis%27_integrals) for estimating π"
   ]
  },
  {
   "cell_type": "code",
   "execution_count": null,
   "id": "34a2115c-0f9c-4948-8ef3-74a959ea7957",
   "metadata": {},
   "outputs": [],
   "source": [
    "def wallis_pi_estimator(pi_init=None, pi_init_step=None, num_steps=1000000):\n",
    "    pi = np.array(2).astype('float64')\n",
    "\n",
    "    if pi_init is not None and pi_init_step is not None:\n",
    "        pi =  np.array(2).astype('float64') * np.array(pi_init).astype('float64')\n",
    "    else:\n",
    "        pi_init_step = 1\n",
    "\n",
    "    for i in range(pi_init_step, num_steps + pi_init_step):\n",
    "        i = np.array(i).astype('float64')\n",
    "        pi *= ((np.array(2).astype('float64') * i) * (np.array(2).astype('float64') * i)) / (((np.array(2).astype('float64') * i) - 1) * ((np.array(2).astype('float64') * i) + 1))\n",
    "\n",
    "    return pi"
   ]
  },
  {
   "cell_type": "code",
   "execution_count": null,
   "id": "0c56379d-8c05-4793-ab01-677b5695bf0e",
   "metadata": {},
   "outputs": [],
   "source": [
    "pi_w = wallis_pi_estimator(\n",
    "           pi_init=None,\n",
    "           pi_init_step=None,\n",
    "           num_steps=1000000\n",
    "         )"
   ]
  },
  {
   "cell_type": "code",
   "execution_count": null,
   "id": "9d5a37d0-531a-4b1b-927a-5caabe54a736",
   "metadata": {},
   "outputs": [],
   "source": [
    "print(pi_w, math.pi, pi_w - math.pi)"
   ]
  },
  {
   "cell_type": "markdown",
   "id": "20c7e63b-508e-43e6-8119-24139b698256",
   "metadata": {},
   "source": [
    "## Part 2 -- [Ramanujan technique](https://en.wikipedia.org/wiki/Ramanujan%E2%80%93Sato_series) for estimating π"
   ]
  },
  {
   "cell_type": "code",
   "execution_count": null,
   "id": "663f8d6b-0ab1-464a-83f8-e37e9881ad0c",
   "metadata": {},
   "outputs": [],
   "source": [
    "def factorial(n):\n",
    "    factorial_func = np.vectorize(math.factorial)\n",
    "    return factorial_func(np.array(n).astype('int64'))"
   ]
  },
  {
   "cell_type": "code",
   "execution_count": null,
   "id": "a937a759-184b-4b84-8c41-26029ac156cf",
   "metadata": {},
   "outputs": [],
   "source": [
    "def ramanujan_sato_pi_estimator(num_steps=1):\n",
    "    alpha = (2 * np.power(np.array(2).astype('float64'), np.array(0.5).astype('float64'))) / np.power(np.array(99).astype('int64'), np.array(2).astype('int64'))\n",
    "\n",
    "    rs_sum = 0\n",
    "    for k in range(num_steps):\n",
    "        ff = factorial( np.array(4 * k).astype('int64') ) / np.power(np.array(factorial(k)).astype('int64'), 4)\n",
    "\n",
    "        rs_denom = np.power(np.array(396).astype('int64'), np.array(4 * k).astype('int64'))\n",
    "        rs_numer = (np.array(26390).astype('int64') * np.array(k).astype('int64')) + np.array(1103).astype('int64')\n",
    "\n",
    "        rs_sum  += ff * (rs_numer / rs_denom)\n",
    "\n",
    "    pi = 1 / (alpha * rs_sum)\n",
    "\n",
    "    return pi"
   ]
  },
  {
   "cell_type": "code",
   "execution_count": null,
   "id": "4ec9e2ff-eaa4-4c71-8147-cd4ba6dd7ca5",
   "metadata": {},
   "outputs": [],
   "source": [
    "pi_r = ramanujan_sato_pi_estimator(2)"
   ]
  },
  {
   "cell_type": "code",
   "execution_count": null,
   "id": "e224d906-27cd-4df1-be0d-5f7c591818fb",
   "metadata": {},
   "outputs": [],
   "source": [
    "print(pi_r, math.pi, pi_r - math.pi)"
   ]
  },
  {
   "cell_type": "markdown",
   "id": "3c069725-9fb6-4a00-8573-c7a49b6c672b",
   "metadata": {},
   "source": [
    "## Part 3 -- Using [Basel problem](https://en.wikipedia.org/wiki/Basel_problem)"
   ]
  },
  {
   "cell_type": "code",
   "execution_count": null,
   "id": "03be821e-fafb-4753-8656-0569c8476375",
   "metadata": {},
   "outputs": [],
   "source": [
    "def basel_pi_estimator(num_steps=100):\n",
    "    s = 1\n",
    "    for k in range(2, num_steps + 2):\n",
    "        s += 1 / (k * k) \n",
    "\n",
    "    pi = np.power(s * 6, 0.5)\n",
    "\n",
    "    return pi"
   ]
  },
  {
   "cell_type": "code",
   "execution_count": null,
   "id": "04499d19-148a-4afe-8a04-2c61990f0e0a",
   "metadata": {},
   "outputs": [],
   "source": [
    "pi_b = basel_pi_estimator(51200)"
   ]
  },
  {
   "cell_type": "code",
   "execution_count": null,
   "id": "1a69105f-ca14-4101-9c99-da8cc01f8afa",
   "metadata": {},
   "outputs": [],
   "source": [
    "print(pi_b, math.pi, pi_b - math.pi)"
   ]
  },
  {
   "cell_type": "markdown",
   "id": "255cd585-e3b2-4f8f-851a-4e3490a1ea51",
   "metadata": {},
   "source": [
    "# Using Monte Carlo simulations"
   ]
  },
  {
   "cell_type": "markdown",
   "id": "4c10b964-5100-45de-a592-669d6890d4fa",
   "metadata": {},
   "source": [
    "## Part 1 -- Using random points inside a square"
   ]
  },
  {
   "cell_type": "code",
   "execution_count": null,
   "id": "5acaedd4-f1c6-47cc-b0eb-e1bc4fa5a419",
   "metadata": {},
   "outputs": [],
   "source": [
    "def monte_carlo_pi_sampler(\n",
    "        num_mc_sims:int=2500,\n",
    "        num_pi_sims:int=7500,\n",
    "        max_int:int=262144\n",
    "    )->tuple:\n",
    "    '''\n",
    "       A sampling function for estimating the value of π using Monte-Carlo simulations.\n",
    "\n",
    "           Arguments of the function:\n",
    "               num_mc_sims:int -> Number of Monte-Carlo simulations.\n",
    "               num_pi_sims:int -> Number of π estimation simulations with a given radius.\n",
    "               max_int:int     -> Maximum value for the radius to be used in π estimations simulations.\n",
    "\n",
    "           Returns a tuple of three integers:                                                          \\\n",
    "             (Number of points inside the circle,                                                      \\\n",
    "              Number of points inside the largest square within the circle,                            \\\n",
    "              Number of points inside the smallest square outside the circle)\n",
    "    '''\n",
    "    assert isinstance(num_mc_sims, int), f'Expected an integer input for num_pi_sims, instead received: {num_pi_sims} ...'\n",
    "    assert isinstance(num_pi_sims, int), f'Expected an integer input for num_pi_sims, instead received: {num_pi_sims} ...'\n",
    "    assert isinstance(max_int, int),     f'Expected an integer input for max_int, instead received: {num_pi_sims} ...'\n",
    "    in_points, sq_in_points, total_points = 0, 0, 0\n",
    "\n",
    "    for s in range(num_pi_sims):\n",
    "        rand_num = random.SystemRandom().uniform(1, max_int)\n",
    "    \n",
    "        sq_len = random.SystemRandom().uniform(0, max_int)\n",
    "        sq_len = random.SystemRandom().choice([-sq_len, sq_len])\n",
    "\n",
    "        x_min = random.SystemRandom().uniform(-rand_num, rand_num)\n",
    "        x_max = x_min + sq_len\n",
    "\n",
    "        sq_len = random.SystemRandom().choice([-sq_len, sq_len])\n",
    "    \n",
    "        y_min = random.SystemRandom().uniform(-rand_num, rand_num)\n",
    "        y_max = y_min + sq_len\n",
    "    \n",
    "        x_list = np.asarray([[random.SystemRandom().uniform(x_min, x_max), x_min] for i in range(num_mc_sims)])\n",
    "        y_list = np.asarray([[random.SystemRandom().uniform(y_min, y_max), y_min] for j in range(num_mc_sims)])\n",
    "\n",
    "        c_dist        = (np.power(np.asarray(x_list)[:,0] - np.asarray(x_list)[:,1], 2) + \n",
    "                         np.power(np.asarray(y_list)[:,0] - np.asarray(y_list)[:,1], 2)) / math.pow(sq_len, 2)\n",
    "        in_points    += np.sum(np.where(c_dist <= 1.0 , 1.0, 0.0), axis=0)\n",
    "        total_points += len(c_dist)\n",
    "\n",
    "        concat_list   = np.transpose(\n",
    "                            np.array(\n",
    "                                [np.abs(x_list[:,0] - x_list[:,1]), \n",
    "                                 np.abs(y_list[:,0] - y_list[:,1])]\n",
    "                              )\n",
    "                          )\n",
    "\n",
    "        sq_in_points += np.sum(\n",
    "                            np.where(\n",
    "                                concat_list[:,0] <= np.abs(sq_len) / math.pow(2, 0.5), 1, 0\n",
    "                              ) * \\\n",
    "                            np.where(\n",
    "                                concat_list[:,1] <= np.abs(sq_len) / math.pow(2, 0.5), 1, 0\n",
    "                              )\n",
    "                          )\n",
    "\n",
    "        if (s + 1) % (num_pi_sims * 0.1) == 0.0:\n",
    "            print(f'Completed Monte Carlo pi simulation step: {s + 1} out of {num_pi_sims} ...')\n",
    "\n",
    "    return in_points, sq_in_points, total_points"
   ]
  },
  {
   "cell_type": "code",
   "execution_count": null,
   "id": "3eb8c67d-699a-47ad-b918-38770ea511d3",
   "metadata": {},
   "outputs": [],
   "source": [
    "def monte_carlo_pi_estimator(\n",
    "        in_points:int,\n",
    "        sq_in_points:int,\n",
    "        total_points:int\n",
    "      )->float:\n",
    "    '''\n",
    "       A function to approximate the value of π using Monte-Carlo simulation samples.\n",
    "\n",
    "           Arguments of the function:\n",
    "               in_points:int    -> Number of points inside the circle.\n",
    "               sq_in_points:int -> Number of points inside the largest square within the circle. \n",
    "               total_points:int -> Number of points inside the smallest square outside the circle.\n",
    "\n",
    "           Returns a float corresponding to the approximate value of π.\n",
    "    '''\n",
    "    pi_ratio    = (in_points / total_points) * 4\n",
    "    pi_sq       = (in_points / sq_in_points) * 2\n",
    "    pi_rem_area = (2 + (4 * ((in_points - sq_in_points) / total_points)))\n",
    "\n",
    "    pi_out = (pi_ratio + pi_sq + pi_rem_area) / 3\n",
    "\n",
    "    return pi_out"
   ]
  },
  {
   "cell_type": "markdown",
   "id": "94a2fa43-d60d-4d77-adc4-e0b45a089efd",
   "metadata": {},
   "source": [
    "## Riemann-Remanan error correction\n",
    "* An error correction is applied to the Monte-Carlo simulation output using Riemann-Remanan stochastic integration.\n",
    "* The error correction works by performing a stochastic integration over a sentinel population, which returns an error estimate of the random sampling process. \n",
    "* An output range is computed using the error estimation to compensate for the sampling error.\n",
    "* The final output is generated using a final stochastic sampling step."
   ]
  },
  {
   "cell_type": "code",
   "execution_count": null,
   "id": "3ae2c71d-7523-4a66-a261-7bfa3d25c89e",
   "metadata": {},
   "outputs": [],
   "source": [
    "def riemann_remanan_pi_estimator(\n",
    "        in_points:int,\n",
    "        sq_in_points:int,\n",
    "        total_points:int,\n",
    "        num_steps:int=50000,\n",
    "        pi_lower_bound:float=basel_pi_estimator(10000),\n",
    "        pi_upper_bound:float=ramanujan_sato_pi_estimator(1),\n",
    "        num_reties:int=5000\n",
    "      )->float:\n",
    "    '''\n",
    "       Error correction using Riemann-Remanan stochastic integration.\n",
    "\n",
    "         * An error correction is applied to the Monte-Carlo simulation output using Riemann-Remanan stochastic integration.\n",
    "         * The error correction works by performing a stochastic integration over a sentinel population,                          \\\n",
    "             which returns an error estimate of the random sampling process.\n",
    "         * An output range is computed using the error estimation to compensate for the sampling error.\n",
    "         * The final output is generated using a final stochastic sampling step.\n",
    "\n",
    "           Arguments of the function:\n",
    "               in_points:int        -> Number of points inside the area of a π / 4 radians segment of the circle of radius r.\n",
    "               sq_in_points:int     -> Number of points inside the square area of diagonal length r,                              \\\n",
    "                                         within the segemnt of the circle.\n",
    "               total_points:int     -> Total number of points inside the square area of length r.\n",
    "               num_steps:int        -> Number of Monte-Carlo simulations sampling steps.\n",
    "               pi_lower_bound:float -> Lower bound value of the sampling filter.\n",
    "               pi_upper_bound:float -> Upper bound value of the sampling filter.\n",
    "               num_reties:int       -> Total retries when the filter output is None.\n",
    "\n",
    "           Returns a float value corresponding to the approximation of pi. \n",
    "    '''\n",
    "    sq_area_ratio = 1 / 2\n",
    "    riemann_remanan_correction_list = [(sq_in_points / total_points) * 2]\n",
    "\n",
    "    in_points_rr_list, sq_in_points_rr_list, total_points_rr_list = [], [], []\n",
    "    for riemann_remanan_correction in riemann_remanan_correction_list:\n",
    "        in_points_rr_list    += [in_points    * riemann_remanan_correction, in_points / riemann_remanan_correction]\n",
    "        sq_in_points_rr_list += [sq_in_points * riemann_remanan_correction, sq_in_points / riemann_remanan_correction]\n",
    "        total_points_rr_list += [total_points * riemann_remanan_correction, total_points / riemann_remanan_correction]\n",
    "\n",
    "    in_points_rr_min, in_points_rr_max       = np.min(in_points_rr_list),    np.max(in_points_rr_list)\n",
    "    sq_in_points_rr_min, sq_in_points_rr_max = np.min(sq_in_points_rr_list), np.max(sq_in_points_rr_list)\n",
    "    total_points_rr_min, total_points_rr_max = np.min(total_points_rr_list), np.max(total_points_rr_list)\n",
    "\n",
    "    pi, total_steps, num_retry_steps = 0, 0, 0\n",
    "    while total_steps == 0:\n",
    "        num_retry_steps += 1\n",
    "        for i in range(num_steps):\n",
    "            in_points_rr_mean = np.mean(in_points_rr_list)\n",
    "            sq_in_points_rr_mean = np.mean(sq_in_points_rr_list)\n",
    "            total_points_rr_mean = np.mean(total_points_rr_list)\n",
    "            pi_rand = monte_carlo_pi_estimator(\n",
    "                          (random.SystemRandom().choice(in_points_rr_list) + in_points_rr_mean) / 2, \n",
    "                          (random.SystemRandom().choice(sq_in_points_rr_list) + sq_in_points_rr_mean) / 2,  \n",
    "                          (random.SystemRandom().choice(total_points_rr_list) + total_points_rr_mean) / 2\n",
    "                        )\n",
    "            if pi_upper_bound is None or pi_lower_bound is None:\n",
    "                pi += pi_rand\n",
    "                total_steps += 1\n",
    "            elif pi_rand > pi_lower_bound and pi_rand < pi_upper_bound:\n",
    "                pi += pi_rand\n",
    "                total_steps += 1\n",
    "\n",
    "        if num_retry_steps > num_reties:\n",
    "            raise ValueError('Failed to calculate the value of pi for the given bounding range ...')\n",
    "\n",
    "    pi /=  total_steps\n",
    "\n",
    "    return pi"
   ]
  },
  {
   "cell_type": "code",
   "execution_count": null,
   "id": "d06ff5fa-aaca-4c46-ae7f-8bd8c3d9a8f9",
   "metadata": {},
   "outputs": [],
   "source": [
    "pi_init = 3.141591868192149 # pi_w # 3.1415068949186717\n",
    "in_points, sq_in_points, total_points = monte_carlo_pi_sampler()"
   ]
  },
  {
   "cell_type": "code",
   "execution_count": null,
   "id": "96f81fe2-69e3-4fc0-8a28-38360b2f23dc",
   "metadata": {},
   "outputs": [],
   "source": [
    "math.pi - basel_pi_estimator(10000), math.pi - ramanujan_sato_pi_estimator(1)"
   ]
  },
  {
   "cell_type": "code",
   "execution_count": null,
   "id": "438fcbcf-a263-421b-aca8-8bb8cbcec444",
   "metadata": {},
   "outputs": [],
   "source": [
    "pi_out_mc = monte_carlo_pi_estimator(in_points, sq_in_points, total_points)"
   ]
  },
  {
   "cell_type": "code",
   "execution_count": null,
   "id": "6d367342-487e-4c43-b1bb-56b392b52ae5",
   "metadata": {},
   "outputs": [],
   "source": [
    "pi_mc_rr_ub = riemann_remanan_pi_estimator(\n",
    "                   in_points,\n",
    "                   sq_in_points,\n",
    "                   total_points,\n",
    "                   num_steps=125000,\n",
    "                   pi_lower_bound=None,\n",
    "                   pi_upper_bound=None,\n",
    "                   num_reties=500 \n",
    "                 )"
   ]
  },
  {
   "cell_type": "code",
   "execution_count": null,
   "id": "c12a5a6c-1b23-4646-ba46-bf2bbc66d63c",
   "metadata": {},
   "outputs": [],
   "source": [
    "print(math.pi, pi_mc_rr_ub,  pi_out_mc)\n",
    "print(math.pi - pi_mc_rr_ub, math.pi - pi_out_mc)"
   ]
  },
  {
   "cell_type": "code",
   "execution_count": null,
   "id": "c821384e-0a2c-4063-8e8b-d52e1d9a96da",
   "metadata": {},
   "outputs": [],
   "source": [
    "ecc_success = 0\n",
    "for i in range(100):\n",
    "    pi_mc_rr_ub = riemann_remanan_pi_estimator(\n",
    "                      in_points,\n",
    "                      sq_in_points,\n",
    "                      total_points,\n",
    "                      num_steps=12500,\n",
    "                      pi_lower_bound=None,\n",
    "                      pi_upper_bound=None,\n",
    "                      num_reties=500 \n",
    "                   )\n",
    "    if np.abs(math.pi - pi_mc_rr_ub) < np.abs(math.pi - pi_out_mc):\n",
    "        ecc_success += 1"
   ]
  },
  {
   "cell_type": "code",
   "execution_count": null,
   "id": "bead0d8d-6dad-4be6-9be2-999b8dc0f218",
   "metadata": {},
   "outputs": [],
   "source": [
    "ecc_success / 100"
   ]
  },
  {
   "cell_type": "code",
   "execution_count": null,
   "id": "8b1217de-dc95-4c66-ae2f-bd20fc601f7a",
   "metadata": {},
   "outputs": [],
   "source": [
    "pi_out_rr = riemann_remanan_pi_estimator(\n",
    "                in_points,\n",
    "                sq_in_points,\n",
    "                total_points,\n",
    "                num_reties=1500 \n",
    "              )"
   ]
  },
  {
   "cell_type": "code",
   "execution_count": null,
   "id": "9bfba9c9-b3de-46a9-8266-38c56d081cc1",
   "metadata": {},
   "outputs": [],
   "source": [
    "pi_mc_rr = 0\n",
    "for i in range(51200):\n",
    "    pi_mc_rr_list = [pi_out_rr, pi_init]\n",
    "    pi_mc_rr_min, pi_mc_rr_max = np.min(pi_mc_rr_list), np.max(pi_mc_rr_list)\n",
    "    pi_mc_rr += random.SystemRandom().uniform(pi_mc_rr_min, pi_mc_rr_max)\n",
    "pi_mc_rr /= 51200"
   ]
  },
  {
   "cell_type": "code",
   "execution_count": null,
   "id": "55489224-74c5-423d-9307-f4a28aa06996",
   "metadata": {},
   "outputs": [],
   "source": [
    "print(pi_mc_rr, pi_init, pi_out_rr, pi_out_mc)"
   ]
  },
  {
   "cell_type": "code",
   "execution_count": null,
   "id": "a6036ae4-3b6d-4fc9-861c-fe495844a848",
   "metadata": {},
   "outputs": [],
   "source": [
    "print(math.pi - pi_init, math.pi - pi_mc_rr, math.pi - pi_out_rr, math.pi - pi_out_mc)"
   ]
  },
  {
   "cell_type": "markdown",
   "id": "9743cbab-f39b-4333-9068-e67bfce82dff",
   "metadata": {},
   "source": [
    "## Part 2 -- Using the Buffon's needle problem"
   ]
  },
  {
   "cell_type": "code",
   "execution_count": null,
   "id": "ffe77ac3-5725-4370-ace6-bfefbedffd32",
   "metadata": {},
   "outputs": [],
   "source": [
    "def buffons_pi_estimator(\n",
    "        num_mc_sims:int=196,\n",
    "        num_steps:int=196,\n",
    "        num_repeats:int=196\n",
    "      )->float:\n",
    "    '''\n",
    "       A naive implementation to estimate the value of Pi,                                                   \\\n",
    "         by stochastically solving the Buffon's needle problem.\n",
    "\n",
    "       Performs placement simulations using a random number of needles with fixed dimensions of length (l),  \\\n",
    "         on a finite two-dimensional plane.\n",
    "\n",
    "           Arguments of the function:\n",
    "               num_mc_sims:int -> Number of Monte-Carlo simulations to model the Buffon's needle problem\n",
    "               num_steps:int   -> Number of parallel equidistant lines along the x axis,                     \\\n",
    "                                    with-in a given two dimenstional spaces;                                 \\\n",
    "                                    of a randomly determined distance (2 * l) value,                         \\\n",
    "                                    used in each step of the Monte-Carlo simulation.\n",
    "               num_repeats:int -> Number of random needle placements of a randomly determined length (l),    \\\n",
    "                                    for a given 2d sapce.\n",
    "\n",
    "           Returns a float value corresponding to the approximation of pi.\n",
    "\n",
    "       This function models the needle placement and rotation through:\n",
    "         1. Random selection of the x coordinate value for the mid point of the needle.\n",
    "         2. Random rotation of the needle (θ) by assigning a random value to the x axis projection,        \\\n",
    "              corresponding to the l * cos(θ) component of the needle.\n",
    "    '''\n",
    "    num_inter_pts, total_sims = 0, 0\n",
    "\n",
    "    for i in range(num_mc_sims):\n",
    "        segm_len  = random.SystemRandom().uniform(1 / num_mc_sims, num_mc_sims)\n",
    "        rand_orig = random.SystemRandom().uniform(1, num_mc_sims)\n",
    "    \n",
    "        x_list = [random.SystemRandom().uniform(-rand_orig, rand_orig)]\n",
    "\n",
    "        x_list_pos = [x_list[0] + (i * (2 * segm_len)) for i in range(1, num_steps + 1)]\n",
    "        x_list_neg = [x_list[0] - (i * (2 * segm_len)) for i in range(1, num_steps + 1)]\n",
    "        \n",
    "        x_list += x_list_pos\n",
    "        x_list += x_list_neg\n",
    "\n",
    "        for j in range(num_repeats):\n",
    "            x_rand = random.SystemRandom().choice(x_list)\n",
    "\n",
    "            x_rand_min = x_rand - (random.SystemRandom().uniform(0.73775, 0.83775) * segm_len)\n",
    "            x_rand_max = x_rand + (random.SystemRandom().uniform(0.73775, 0.83775) * segm_len)\n",
    "    \n",
    "            x_mid_segm = random.SystemRandom().uniform(\n",
    "                             x_rand_min, x_rand_max\n",
    "                           )\n",
    "\n",
    "            x_segm_len = random.SystemRandom().uniform(-0.5 * segm_len, 0.5 * segm_len)\n",
    "\n",
    "            x_pos_segm = x_mid_segm + x_segm_len\n",
    "            x_neg_segm = x_mid_segm - x_segm_len\n",
    "\n",
    "            total_sims += 1\n",
    "\n",
    "            for k, x_k in enumerate(x_list):\n",
    "                if (x_pos_segm >= x_k and x_neg_segm <= x_k ) or (x_pos_segm <= x_k and x_neg_segm >= x_k ):\n",
    "                    num_inter_pts += 1\n",
    "                    break\n",
    "\n",
    "    pi = total_sims / num_inter_pts\n",
    "\n",
    "    return pi"
   ]
  },
  {
   "cell_type": "markdown",
   "id": "9ca35c13-0947-49c5-a86e-a413392e441a",
   "metadata": {},
   "source": [
    "${\\frac{2.l}{\\pi.d}}$"
   ]
  },
  {
   "cell_type": "code",
   "execution_count": null,
   "id": "227848a9-cd61-4f34-85ae-291992f096e2",
   "metadata": {},
   "outputs": [],
   "source": [
    "pi_mc_b_list = [buffons_pi_estimator() for i in range(256)]"
   ]
  },
  {
   "cell_type": "markdown",
   "id": "2f91e847-41ec-4d4b-a751-9683a4facdad",
   "metadata": {},
   "source": [
    "## Riemann-Remanan error correction\n",
    "Error correction using Riemann-Remanan stochastic integration."
   ]
  },
  {
   "cell_type": "code",
   "execution_count": null,
   "id": "da3c88a0-f1a0-4764-8939-6def2b444136",
   "metadata": {},
   "outputs": [],
   "source": [
    "pi_mc_b_min, pi_mc_b_max = np.min(pi_mc_b_list), np.max(pi_mc_b_list)\n",
    "pi_mc_b = 0\n",
    "pi_b_lower_bound = 3.1415926538736683\n",
    "pi_b_upper_bound = 3.1415926538922716\n",
    "toal_rr_steps = 0\n",
    "num_retries = 0\n",
    "while toal_rr_steps == 0:\n",
    "    num_retries += 1\n",
    "    for i in range(51200):\n",
    "        pi_rand_b = random.SystemRandom().uniform(pi_mc_b_min, pi_mc_b_max)\n",
    "        if pi_b_upper_bound is None or pi_b_lower_bound is None:\n",
    "            pi_mc_b += pi_rand_b\n",
    "            toal_rr_steps += 1\n",
    "        elif pi_rand_b < pi_b_upper_bound and pi_rand_b > pi_b_lower_bound:\n",
    "            pi_mc_b += pi_rand_b\n",
    "            toal_rr_steps += 1\n",
    "    if num_retries > 25000:\n",
    "        raise ValueError('Failed to compute value of pi within the specified bounding values ...')\n",
    "pi_mc_b /= toal_rr_steps\n",
    "print(math.pi, pi_mc_b, np.mean(pi_mc_b_list), math.pi - pi_mc_b, math.pi - np.mean(pi_mc_b_list))"
   ]
  },
  {
   "cell_type": "code",
   "execution_count": null,
   "id": "471f4fe7-b030-4872-bf6c-9ea39cd1562a",
   "metadata": {},
   "outputs": [],
   "source": []
  }
 ],
 "metadata": {
  "kernelspec": {
   "display_name": "Python 3 (ipykernel)",
   "language": "python",
   "name": "python3"
  },
  "language_info": {
   "codemirror_mode": {
    "name": "ipython",
    "version": 3
   },
   "file_extension": ".py",
   "mimetype": "text/x-python",
   "name": "python",
   "nbconvert_exporter": "python",
   "pygments_lexer": "ipython3",
   "version": "3.12.7"
  }
 },
 "nbformat": 4,
 "nbformat_minor": 5
}
