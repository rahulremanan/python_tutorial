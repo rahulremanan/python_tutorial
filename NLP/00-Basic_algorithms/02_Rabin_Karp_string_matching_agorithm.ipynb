{
 "cells": [
  {
   "cell_type": "code",
   "execution_count": 61,
   "id": "5d6e9cb2-5cd3-4404-84c5-5b859e6dd8ea",
   "metadata": {},
   "outputs": [],
   "source": [
    "input_string = 'abcdefgabcd'\n",
    "comparison_string = 'abcd'\n",
    "char_hash_dict = {'a' : 0,\n",
    "                  'b' : 1,\n",
    "                  'c' : 2,\n",
    "                  'd' : 3,\n",
    "                  'e' : 4,\n",
    "                  'f' : 5,\n",
    "                  'g' : 6,\n",
    "                  'h' : 7,\n",
    "                  'i' : 8,\n",
    "                  'j' : 9}"
   ]
  },
  {
   "cell_type": "code",
   "execution_count": 80,
   "id": "cfc5d206-b3e8-4646-a6a0-860f928dad7e",
   "metadata": {},
   "outputs": [],
   "source": [
    "def compute_character_hash(inp_char):\n",
    "    return ord(inp_char)\n",
    "\n",
    "def compute_character_hash(inp_char):\n",
    "    return char_hash_dict[inp_char]\n",
    "\n",
    "def compute_string_hash(input_string, comparison_string, max_char_len=126):\n",
    "    hash_value_list = []\n",
    "    matched_hash_indices = []\n",
    "    hash_value = 0\n",
    "    for i, char in enumerate(input_string):\n",
    "        char_hash = compute_character_hash(char)\n",
    "        print('Character hash: ', char_hash)\n",
    "        assert  char_hash <= max_char_len\n",
    "        hash_value_list.append(char_hash)\n",
    "        if i < len(comparison_string):\n",
    "            hash_value += hash_value_list[i] * pow(max_char_len, len(comparison_string) - i)\n",
    "        if i >= len(comparison_string):\n",
    "            print(hash_value_list[i -  len(comparison_string) - 1])\n",
    "            diff_val = hash_value_list[i -  len(comparison_string) - 1] * pow(max_char_len, len(comparison_string) -1)\n",
    "            print(hash_value, diff_val)\n",
    "            hash_value = (hash_value - diff_val) * max_char_len + hash_value_list[i]\n",
    "        print(hash_value)\n",
    "    print(hash_value_list)"
   ]
  },
  {
   "cell_type": "code",
   "execution_count": 81,
   "id": "43208933-d4c6-4205-8edf-77bb23618cc9",
   "metadata": {},
   "outputs": [
    {
     "name": "stdout",
     "output_type": "stream",
     "text": [
      "Character hash:  0\n",
      "0\n",
      "Character hash:  1\n",
      "1000\n",
      "Character hash:  2\n",
      "1200\n",
      "Character hash:  3\n",
      "1230\n",
      "Character hash:  0\n",
      "0\n",
      "1230 0\n",
      "12300\n",
      "Character hash:  1\n",
      "0\n",
      "12300 0\n",
      "123001\n",
      "Character hash:  2\n",
      "1\n",
      "123001 100000\n",
      "230012\n",
      "Character hash:  3\n",
      "2\n",
      "230012 200000\n",
      "300123\n",
      "Character hash:  4\n",
      "3\n",
      "300123 300000\n",
      "1234\n",
      "Character hash:  5\n",
      "0\n",
      "1234 0\n",
      "12345\n",
      "Character hash:  9\n",
      "1\n",
      "12345 100000\n",
      "-876541\n",
      "[0, 1, 2, 3, 0, 1, 2, 3, 4, 5, 9]\n"
     ]
    }
   ],
   "source": [
    "compute_string_hash('abcdabcdefj', 'abcd', max_char_len=10)"
   ]
  },
  {
   "cell_type": "code",
   "execution_count": null,
   "id": "6e008716-1e50-43bd-8fc7-3069894cfb55",
   "metadata": {},
   "outputs": [],
   "source": []
  }
 ],
 "metadata": {
  "kernelspec": {
   "display_name": "Python 3 (ipykernel)",
   "language": "python",
   "name": "python3"
  },
  "language_info": {
   "codemirror_mode": {
    "name": "ipython",
    "version": 3
   },
   "file_extension": ".py",
   "mimetype": "text/x-python",
   "name": "python",
   "nbconvert_exporter": "python",
   "pygments_lexer": "ipython3",
   "version": "3.11.5"
  }
 },
 "nbformat": 4,
 "nbformat_minor": 5
}
