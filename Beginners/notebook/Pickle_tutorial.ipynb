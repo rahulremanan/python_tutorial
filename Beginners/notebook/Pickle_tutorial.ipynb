{
  "nbformat": 4,
  "nbformat_minor": 0,
  "metadata": {
    "colab": {
      "name": "Pickle_tutorial.ipynb",
      "provenance": []
    },
    "kernelspec": {
      "name": "python3",
      "display_name": "Python 3"
    }
  },
  "cells": [
    {
      "cell_type": "markdown",
      "metadata": {
        "id": "b8sVPBFY3Vd-"
      },
      "source": [
        "# [Using Pickle to manage memory in Python](https://www.moad.computer/blog/using-pickle-to-manage-memory-in-python)"
      ]
    },
    {
      "cell_type": "code",
      "metadata": {
        "id": "EOpyW4don02J"
      },
      "source": [
        "import gc\r\n",
        "import pickle\r\n",
        "import psutil\r\n",
        "import numpy as np\r\n",
        "import pandas as pd"
      ],
      "execution_count": 1,
      "outputs": []
    },
    {
      "cell_type": "code",
      "metadata": {
        "id": "00IE1VeFqmWb"
      },
      "source": [
        "def memory_utilization():\r\n",
        "  print('Current memory utilization: {}% ...'.format(psutil.virtual_memory().percent))"
      ],
      "execution_count": 2,
      "outputs": []
    },
    {
      "cell_type": "code",
      "metadata": {
        "colab": {
          "base_uri": "https://localhost:8080/"
        },
        "id": "cLQx2iynp8dy",
        "outputId": "1ea925d3-c7b1-4c1d-fc26-6b7c061ef896"
      },
      "source": [
        "memory_utilization()\r\n",
        "var=pd.DataFrame(np.random.randint(0,1000,size=(int(2.5e8),2)),columns=['var1','var2'])\r\n",
        "print(var.head())\r\n",
        "memory_utilization()"
      ],
      "execution_count": 3,
      "outputs": [
        {
          "output_type": "stream",
          "text": [
            "Current memory utilization: 5.8% ...\n",
            "   var1  var2\n",
            "0    65   458\n",
            "1   923   400\n",
            "2   334   149\n",
            "3   901   966\n",
            "4   544   138\n",
            "Current memory utilization: 35.2% ...\n"
          ],
          "name": "stdout"
        }
      ]
    },
    {
      "cell_type": "code",
      "metadata": {
        "colab": {
          "base_uri": "https://localhost:8080/"
        },
        "id": "hDLzVY-nn_jl",
        "outputId": "e09ce049-b46e-4b7b-d808-69b3de8ed23e"
      },
      "source": [
        "pickle.dump(var,open('var.pkl','wb'))\r\n",
        "memory_utilization()"
      ],
      "execution_count": 4,
      "outputs": [
        {
          "output_type": "stream",
          "text": [
            "Current memory utilization: 35.5% ...\n"
          ],
          "name": "stdout"
        }
      ]
    },
    {
      "cell_type": "code",
      "metadata": {
        "colab": {
          "base_uri": "https://localhost:8080/"
        },
        "id": "ME3PWpMlpaT7",
        "outputId": "6b0ed6b6-f2a0-4676-d7cc-5b2d8167f577"
      },
      "source": [
        "del var\r\n",
        "_=gc.collect()\r\n",
        "memory_utilization()"
      ],
      "execution_count": 5,
      "outputs": [
        {
          "output_type": "stream",
          "text": [
            "Current memory utilization: 6.2% ...\n"
          ],
          "name": "stdout"
        }
      ]
    },
    {
      "cell_type": "code",
      "metadata": {
        "colab": {
          "base_uri": "https://localhost:8080/"
        },
        "id": "7UH3QBYypMdV",
        "outputId": "d7d8d53a-f2fe-4904-f7ce-c4d18d19211f"
      },
      "source": [
        "var=pickle.load(open('var.pkl','rb'))\r\n",
        "memory_utilization()\r\n",
        "print(var.head())"
      ],
      "execution_count": 6,
      "outputs": [
        {
          "output_type": "stream",
          "text": [
            "Current memory utilization: 24.1% ...\n",
            "   var1  var2\n",
            "0    65   458\n",
            "1   923   400\n",
            "2   334   149\n",
            "3   901   966\n",
            "4   544   138\n"
          ],
          "name": "stdout"
        }
      ]
    },
    {
      "cell_type": "code",
      "metadata": {
        "id": "Mlyf-0wp2YD4"
      },
      "source": [
        ""
      ],
      "execution_count": 6,
      "outputs": []
    }
  ]
}