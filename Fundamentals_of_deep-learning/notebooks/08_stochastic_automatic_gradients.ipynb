{
 "cells": [
  {
   "cell_type": "markdown",
   "metadata": {},
   "source": [
    "# **Ultimate Guide to Stochastic Automatic Differentiation**\n",
    "\n",
    "This notebook outlines the concept of automatic differentiation using **stochastic automatic gradient (SAG)** computations. \n",
    "The implementation of **SAG** models are a pre-cursor to the development of an end-to-end quantum artificial intelligence model. \n",
    "It is also an important component of **software defined quantum networks (SDQN)**, where the traditional flexibility and scalability of general purpose digital computing infrastructure is combined with the power of quantum processes."
   ]
  },
  {
   "cell_type": "code",
   "execution_count": null,
   "metadata": {},
   "outputs": [],
   "source": [
    "import os, math, random, tempfile, matplotlib, numpy as np,         \\\n",
    "       pandas as pd, seaborn as sns, sklearn.metrics as sk_metrics, \\\n",
    "       tensorflow as tf, tensorflow_datasets as tfds\n",
    "from matplotlib import pyplot as plt"
   ]
  },
  {
   "cell_type": "code",
   "execution_count": null,
   "metadata": {},
   "outputs": [],
   "source": [
    "matplotlib.rcParams['figure.figsize'] = [9, 6]"
   ]
  },
  {
   "cell_type": "code",
   "execution_count": null,
   "metadata": {},
   "outputs": [],
   "source": [
    "print(tf.__version__)"
   ]
  },
  {
   "cell_type": "markdown",
   "metadata": {},
   "source": [
    "## Set random seed for reproducible results "
   ]
  },
  {
   "cell_type": "code",
   "execution_count": null,
   "metadata": {},
   "outputs": [],
   "source": [
    "# tf.random.set_seed(22)"
   ]
  },
  {
   "cell_type": "markdown",
   "metadata": {},
   "source": [
    "# Computing first derivative of a function"
   ]
  },
  {
   "cell_type": "markdown",
   "metadata": {},
   "source": [
    "## Compute stochastic automatic differentation\n",
    "A naive python function for calculating the local derivative using stochastic automatic gradient (SAG) computation."
   ]
  },
  {
   "cell_type": "code",
   "execution_count": null,
   "metadata": {},
   "outputs": [],
   "source": [
    "def compute_stochastic_auto_grad(x, fn, epsilon, num_steps=100, dtype='float32'):\n",
    "    x = np.array(x, dtype=dtype)\n",
    "    delta = np.zeros_like(x, dtype=dtype)\n",
    "    rnd_steps = int(random.SystemRandom().uniform(int(0.9 * num_steps), int(1.1 * num_steps)))\n",
    "    for i in range(rnd_steps):\n",
    "        fwd_epsilon = np.zeros_like(x, dtype=dtype) + random.SystemRandom().uniform(epsilon * (1 - epsilon), epsilon * (1 + epsilon))\n",
    "        rwd_epsilon = np.zeros_like(x, dtype=dtype) + random.SystemRandom().uniform(epsilon * (1 - epsilon), epsilon * (1 + epsilon))\n",
    "        sum_epsilon = fwd_epsilon + rwd_epsilon\n",
    "        delta += (fn(x + (x * fwd_epsilon)) - fn(x - (x * rwd_epsilon))) / (x * sum_epsilon)\n",
    "    delta /=  np.array(rnd_steps, dtype=dtype)\n",
    "    delta = np.array(delta, dtype=dtype)\n",
    "    return delta"
   ]
  },
  {
   "cell_type": "markdown",
   "metadata": {},
   "source": [
    "## Automatic differentiation examples"
   ]
  },
  {
   "cell_type": "code",
   "execution_count": null,
   "metadata": {},
   "outputs": [],
   "source": [
    "x = 1 / math.pi\n",
    "tf_x = tf.convert_to_tensor(float(x))\n",
    "print(tf_x)"
   ]
  },
  {
   "cell_type": "markdown",
   "metadata": {},
   "source": [
    "### Native Python function to exponentiate an input"
   ]
  },
  {
   "cell_type": "code",
   "execution_count": null,
   "metadata": {},
   "outputs": [],
   "source": [
    "def exponentiate_fn(x, y):\n",
    "    return math.pow(x, y)"
   ]
  },
  {
   "cell_type": "markdown",
   "metadata": {},
   "source": [
    "### TensorFlow function to exponentiate an input"
   ]
  },
  {
   "cell_type": "code",
   "execution_count": null,
   "metadata": {},
   "outputs": [],
   "source": [
    "@tf.function\n",
    "def tf_exponentiate_fn(x, y):\n",
    "    return tf.math.pow(x , y)"
   ]
  },
  {
   "cell_type": "markdown",
   "metadata": {},
   "source": [
    "### Auto differentiation using TensorFlow"
   ]
  },
  {
   "cell_type": "code",
   "execution_count": null,
   "metadata": {},
   "outputs": [],
   "source": [
    "@tf.function\n",
    "def tf_input_fn(x):\n",
    "    return tf_exponentiate_fn(x, tf.constant(2.0))\n",
    "\n",
    "with tf.GradientTape() as g:\n",
    "  g.watch(tf_x)\n",
    "  tf_y = tf_input_fn(tf_x)\n",
    "tf_dy_dx = g.gradient(tf_y, tf_x)\n",
    "print(tf_dy_dx)"
   ]
  },
  {
   "cell_type": "markdown",
   "metadata": {},
   "source": [
    "### Differentiation using simple stochastic auto gradient"
   ]
  },
  {
   "cell_type": "code",
   "execution_count": null,
   "metadata": {},
   "outputs": [],
   "source": [
    "def input_fn(x):\n",
    "    return exponentiate_fn(x, 2)\n",
    "\n",
    "sag_dy_dx = compute_stochastic_auto_grad(x, input_fn, math.pow(10, -5.4444))\n",
    "print(sag_dy_dx)"
   ]
  },
  {
   "cell_type": "code",
   "execution_count": null,
   "metadata": {},
   "outputs": [],
   "source": [
    "dy_dx = 2 * x\n",
    "print(dy_dx)\n",
    "print(f'TensorFlow automatic gradient calculation error: {tf_dy_dx.numpy() - dy_dx}')\n",
    "print(f'Simple stochastic automatic gradient calculation error: {sag_dy_dx - dy_dx}')"
   ]
  },
  {
   "cell_type": "markdown",
   "metadata": {},
   "source": [
    "$\n",
    "{f(x) = {x}^{\\pi}}\n",
    "$"
   ]
  },
  {
   "cell_type": "markdown",
   "metadata": {},
   "source": [
    "${\\therefore \\frac{d(f(x))}{dx} = {\\pi}{x}^{(\\pi- 1)}}$"
   ]
  },
  {
   "cell_type": "markdown",
   "metadata": {},
   "source": [
    "### Auto differentiation using TensorFlow"
   ]
  },
  {
   "cell_type": "code",
   "execution_count": null,
   "metadata": {},
   "outputs": [],
   "source": [
    "@tf.function\n",
    "def tf_input_fn(x):\n",
    "    return tf_exponentiate_fn(x, tf.constant(math.pi, tf.float32))\n",
    "\n",
    "with tf.GradientTape() as g:\n",
    "  g.watch(tf_x)\n",
    "  tf_y = tf_input_fn(tf_x)\n",
    "tf_dy_dx = g.gradient(tf_y, tf_x)\n",
    "print(tf_dy_dx)"
   ]
  },
  {
   "cell_type": "markdown",
   "metadata": {},
   "source": [
    "### Differentiation using simple stochastic auto gradient"
   ]
  },
  {
   "cell_type": "code",
   "execution_count": null,
   "metadata": {},
   "outputs": [],
   "source": [
    "def input_fn(x):\n",
    "    return exponentiate_fn(x, math.pi)\n",
    "\n",
    "sag_dy_dx = compute_stochastic_auto_grad(x, input_fn, math.pow(10, -5.4444))\n",
    "print(sag_dy_dx)"
   ]
  },
  {
   "cell_type": "code",
   "execution_count": null,
   "metadata": {},
   "outputs": [],
   "source": [
    "dy_dx = math.pi * math.pow(x, math.pi - 1)\n",
    "print(dy_dx)\n",
    "print(f'TensorFlow automatic gradient calculation error: {tf_dy_dx.numpy() - dy_dx}')\n",
    "print(f'Simple stochastic automatic gradient calculation error: {sag_dy_dx - dy_dx}')"
   ]
  },
  {
   "cell_type": "markdown",
   "metadata": {},
   "source": [
    "### Auto differentiation using TensorFlow"
   ]
  },
  {
   "cell_type": "code",
   "execution_count": null,
   "metadata": {},
   "outputs": [],
   "source": [
    "@tf.function\n",
    "def tf_input_fn(x):\n",
    "    return tf_exponentiate_fn(x, x)\n",
    "\n",
    "with tf.GradientTape() as g:\n",
    "  g.watch(tf_x)\n",
    "  tf_y = tf_input_fn(tf_x)\n",
    "tf_dy_dx = g.gradient(tf_y, tf_x)\n",
    "print(tf_dy_dx)"
   ]
  },
  {
   "cell_type": "markdown",
   "metadata": {},
   "source": [
    "### Differentiation using simple stochastic auto gradient"
   ]
  },
  {
   "cell_type": "code",
   "execution_count": null,
   "metadata": {},
   "outputs": [],
   "source": [
    "def input_fn(x):\n",
    "    return exponentiate_fn(x, x)\n",
    "\n",
    "sag_dy_dx = compute_stochastic_auto_grad(x, input_fn, math.pow(10, -5.4444))\n",
    "print(sag_dy_dx)"
   ]
  },
  {
   "cell_type": "code",
   "execution_count": null,
   "metadata": {},
   "outputs": [],
   "source": [
    "dy_dx = (1 + math.log(x)) * math.pow(x, x)\n",
    "print(dy_dx)\n",
    "print(f'TensorFlow automatic gradient calculation error: {tf_dy_dx.numpy() - dy_dx}')\n",
    "print(f'Simple stochastic automatic gradient calculation error: {sag_dy_dx - dy_dx}')"
   ]
  },
  {
   "cell_type": "code",
   "execution_count": null,
   "metadata": {},
   "outputs": [],
   "source": [
    "def input_fn(x):\n",
    "    return exponentiate_fn(np.exp(x), np.power(x,2))\n",
    "\n",
    "sag_dy_dx = compute_stochastic_auto_grad(x, input_fn, math.pow(10, -5.4444))\n",
    "print(sag_dy_dx)"
   ]
  },
  {
   "cell_type": "code",
   "execution_count": null,
   "metadata": {},
   "outputs": [],
   "source": [
    "@tf.function\n",
    "def tf_input_fn(x):\n",
    "    return tf_exponentiate_fn(tf.math.exp(x), tf.math.pow(x,2))\n",
    "\n",
    "with tf.GradientTape() as g:\n",
    "  g.watch(tf_x)\n",
    "  tf_y = tf_input_fn(tf_x)\n",
    "tf_dy_dx = g.gradient(tf_y, tf_x)\n",
    "print(tf_dy_dx)"
   ]
  },
  {
   "cell_type": "markdown",
   "metadata": {},
   "source": [
    "# [Building a digit recongnizer using TensorFlow auto grad](https://www.tensorflow.org/guide/core/mlp_core)"
   ]
  },
  {
   "cell_type": "markdown",
   "metadata": {},
   "source": [
    "## Load MNIST training and validation data"
   ]
  },
  {
   "cell_type": "code",
   "execution_count": null,
   "metadata": {},
   "outputs": [],
   "source": [
    "train_data, val_data, test_data = tfds.load('mnist', \n",
    "                                            split=['train[10000:]', 'train[0:10000]', 'test'],\n",
    "                                            batch_size=128, as_supervised=True)"
   ]
  },
  {
   "cell_type": "code",
   "execution_count": null,
   "metadata": {},
   "outputs": [],
   "source": [
    "x_viz, y_viz = tfds.load('mnist', split=['train[:1500]'], batch_size=-1, as_supervised=True)[0]\n",
    "x_viz = tf.squeeze(x_viz, axis=3)\n",
    "\n",
    "for i in range(9):\n",
    "    plt.subplot(3, 3, 1 + i)\n",
    "    plt.axis('off')\n",
    "    plt.imshow(x_viz[i], cmap='gray')\n",
    "    plt.title(f'True Label: {y_viz[i]}')\n",
    "    plt.subplots_adjust(hspace=.5)"
   ]
  },
  {
   "cell_type": "code",
   "execution_count": null,
   "metadata": {},
   "outputs": [],
   "source": [
    "sns.countplot(x=y_viz.numpy());\n",
    "plt.xlabel('Digits')\n",
    "plt.title('MNIST digit distribution');"
   ]
  },
  {
   "cell_type": "code",
   "execution_count": null,
   "metadata": {},
   "outputs": [],
   "source": [
    "def preprocess(x, y):\n",
    "  # Reshaping the data\n",
    "  x = tf.reshape(x, shape=[-1, 784])\n",
    "  # Rescaling the data\n",
    "  x = x / 255\n",
    "  return x, y\n",
    "\n",
    "train_data, val_data = train_data.map(preprocess), val_data.map(preprocess)"
   ]
  },
  {
   "cell_type": "markdown",
   "metadata": {},
   "source": [
    "## Activation function"
   ]
  },
  {
   "cell_type": "code",
   "execution_count": null,
   "metadata": {},
   "outputs": [],
   "source": [
    "x = tf.linspace(-2, 2, 201)\n",
    "x = tf.cast(x, tf.float32)\n",
    "plt.plot(x, tf.nn.relu(x));\n",
    "plt.xlabel('x')\n",
    "plt.ylabel('ReLU(x)')\n",
    "plt.title('ReLU activation function');"
   ]
  },
  {
   "cell_type": "code",
   "execution_count": null,
   "metadata": {},
   "outputs": [],
   "source": [
    "x = tf.linspace(-4, 4, 201)\n",
    "x = tf.cast(x, tf.float32)\n",
    "plt.plot(x, tf.nn.softmax(x, axis=0));\n",
    "plt.xlabel('x')\n",
    "plt.ylabel('Softmax(x)')\n",
    "plt.title('Softmax activation function');"
   ]
  },
  {
   "cell_type": "code",
   "execution_count": null,
   "metadata": {},
   "outputs": [],
   "source": [
    "def xavier_init(shape):\n",
    "  # Computes the xavier initialization values for a weight matrix\n",
    "  in_dim, out_dim = shape\n",
    "  xavier_lim = tf.sqrt(6.)/tf.sqrt(tf.cast(in_dim + out_dim, tf.float32))\n",
    "  weight_vals = tf.random.uniform(shape=(in_dim, out_dim), \n",
    "                                  minval=-xavier_lim, maxval=xavier_lim, seed=22)\n",
    "  return weight_vals"
   ]
  },
  {
   "cell_type": "code",
   "execution_count": null,
   "metadata": {},
   "outputs": [],
   "source": [
    "class DenseLayer(tf.Module):\n",
    "\n",
    "  def __init__(self, out_dim, weight_init=xavier_init, activation=tf.identity):\n",
    "    # Initialize the dimensions and activation functions\n",
    "    self.out_dim = out_dim\n",
    "    self.weight_init = weight_init\n",
    "    self.activation = activation\n",
    "    self.built = False\n",
    "\n",
    "  def __call__(self, x):\n",
    "    if not self.built:\n",
    "      # Infer the input dimension based on first call\n",
    "      self.in_dim = x.shape[1]\n",
    "      # Initialize the weights and biases\n",
    "      self.w = tf.Variable(self.weight_init(shape=(self.in_dim, self.out_dim)))\n",
    "      self.b = tf.Variable(tf.zeros(shape=(self.out_dim,)))\n",
    "      self.built = True\n",
    "    # Compute the forward pass\n",
    "    z = tf.add(tf.matmul(x, self.w), self.b)\n",
    "    return self.activation(z)"
   ]
  },
  {
   "cell_type": "code",
   "execution_count": null,
   "metadata": {},
   "outputs": [],
   "source": [
    "class MLP(tf.Module):\n",
    "\n",
    "  def __init__(self, layers):\n",
    "    self.layers = layers\n",
    "\n",
    "  @tf.function\n",
    "  def __call__(self, x, preds=False): \n",
    "    # Execute the model's layers sequentially\n",
    "    for layer in self.layers:\n",
    "      x = layer(x)\n",
    "    return x"
   ]
  },
  {
   "cell_type": "code",
   "execution_count": null,
   "metadata": {},
   "outputs": [],
   "source": [
    "hidden_layer_1_size = 700\n",
    "hidden_layer_2_size = 500\n",
    "output_size = 10\n",
    "\n",
    "mlp_model = MLP([\n",
    "    DenseLayer(out_dim=hidden_layer_1_size, activation=tf.nn.relu),\n",
    "    DenseLayer(out_dim=hidden_layer_2_size, activation=tf.nn.relu),\n",
    "    DenseLayer(out_dim=output_size)])"
   ]
  },
  {
   "cell_type": "code",
   "execution_count": null,
   "metadata": {},
   "outputs": [],
   "source": [
    "def cross_entropy_loss(y_pred, y):\n",
    "  # Compute cross entropy loss with a sparse operation\n",
    "  sparse_ce = tf.nn.sparse_softmax_cross_entropy_with_logits(labels=y, logits=y_pred)\n",
    "  return tf.reduce_mean(sparse_ce)"
   ]
  },
  {
   "cell_type": "code",
   "execution_count": null,
   "metadata": {},
   "outputs": [],
   "source": [
    "def accuracy(y_pred, y):\n",
    "  # Compute accuracy after extracting class predictions\n",
    "  class_preds = tf.argmax(tf.nn.softmax(y_pred), axis=1)\n",
    "  is_equal = tf.equal(y, class_preds)\n",
    "  return tf.reduce_mean(tf.cast(is_equal, tf.float32))"
   ]
  },
  {
   "cell_type": "code",
   "execution_count": null,
   "metadata": {},
   "outputs": [],
   "source": [
    "class Adam:\n",
    "\n",
    "    def __init__(self, learning_rate=1e-3, beta_1=0.9, beta_2=0.999, ep=1e-7):\n",
    "      # Initialize optimizer parameters and variable slots\n",
    "      self.beta_1 = beta_1\n",
    "      self.beta_2 = beta_2\n",
    "      self.learning_rate = learning_rate\n",
    "      self.ep = ep\n",
    "      self.t = 1.\n",
    "      self.v_dvar, self.s_dvar = [], []\n",
    "      self.built = False\n",
    "\n",
    "    def apply_gradients(self, grads, vars):\n",
    "      # Initialize variables on the first call\n",
    "      if not self.built:\n",
    "        for var in vars:\n",
    "          v = tf.Variable(tf.zeros(shape=var.shape))\n",
    "          s = tf.Variable(tf.zeros(shape=var.shape))\n",
    "          self.v_dvar.append(v)\n",
    "          self.s_dvar.append(s)\n",
    "        self.built = True\n",
    "      # Update the model variables given their gradients\n",
    "      for i, (d_var, var) in enumerate(zip(grads, vars)):\n",
    "        self.v_dvar[i].assign(self.beta_1*self.v_dvar[i] + (1-self.beta_1)*d_var)\n",
    "        self.s_dvar[i].assign(self.beta_2*self.s_dvar[i] + (1-self.beta_2)*tf.square(d_var))\n",
    "        v_dvar_bc = self.v_dvar[i]/(1-(self.beta_1**self.t))\n",
    "        s_dvar_bc = self.s_dvar[i]/(1-(self.beta_2**self.t))\n",
    "        var.assign_sub(self.learning_rate*(v_dvar_bc/(tf.sqrt(s_dvar_bc) + self.ep)))\n",
    "      self.t += 1.\n",
    "      return"
   ]
  },
  {
   "cell_type": "code",
   "execution_count": null,
   "metadata": {},
   "outputs": [],
   "source": [
    "def train_step(x_batch, y_batch, loss, acc, model, optimizer):\n",
    "  # Update the model state given a batch of data\n",
    "  with tf.GradientTape() as tape:\n",
    "    y_pred = model(x_batch)\n",
    "    batch_loss = loss(y_pred, y_batch)\n",
    "  batch_acc = acc(y_pred, y_batch)\n",
    "  grads = tape.gradient(batch_loss, model.variables)\n",
    "  optimizer.apply_gradients(grads, model.variables)\n",
    "  return batch_loss, batch_acc\n",
    "\n",
    "def val_step(x_batch, y_batch, loss, acc, model):\n",
    "  # Evaluate the model on given a batch of validation data\n",
    "  y_pred = model(x_batch)\n",
    "  batch_loss = loss(y_pred, y_batch)\n",
    "  batch_acc = acc(y_pred, y_batch)\n",
    "  return batch_loss, batch_acc"
   ]
  },
  {
   "cell_type": "code",
   "execution_count": null,
   "metadata": {},
   "outputs": [],
   "source": [
    "def train_model(mlp, train_data, val_data, loss, acc, optimizer, epochs):\n",
    "  # Initialize data structures\n",
    "  train_losses, train_accs = [], []\n",
    "  val_losses, val_accs = [], []\n",
    "\n",
    "  # Format training loop and begin training\n",
    "  for epoch in range(epochs):\n",
    "    batch_losses_train, batch_accs_train = [], []\n",
    "    batch_losses_val, batch_accs_val = [], []\n",
    "\n",
    "    # Iterate over the training data\n",
    "    for x_batch, y_batch in train_data:\n",
    "      # Compute gradients and update the model's parameters\n",
    "      batch_loss, batch_acc = train_step(x_batch, y_batch, loss, acc, mlp, optimizer)\n",
    "      # Keep track of batch-level training performance\n",
    "      batch_losses_train.append(batch_loss)\n",
    "      batch_accs_train.append(batch_acc)\n",
    "\n",
    "    # Iterate over the validation data\n",
    "    for x_batch, y_batch in val_data:\n",
    "      batch_loss, batch_acc = val_step(x_batch, y_batch, loss, acc, mlp)\n",
    "      batch_losses_val.append(batch_loss)\n",
    "      batch_accs_val.append(batch_acc)\n",
    "\n",
    "    # Keep track of epoch-level model performance\n",
    "    train_loss, train_acc = tf.reduce_mean(batch_losses_train), tf.reduce_mean(batch_accs_train)\n",
    "    val_loss, val_acc = tf.reduce_mean(batch_losses_val), tf.reduce_mean(batch_accs_val)\n",
    "    train_losses.append(train_loss)\n",
    "    train_accs.append(train_acc)\n",
    "    val_losses.append(val_loss)\n",
    "    val_accs.append(val_acc)\n",
    "    print(f'Epoch: {epoch}')\n",
    "    print(f'Training loss: {train_loss:.3f}, Training accuracy: {train_acc:.3f}')\n",
    "    print(f'Validation loss: {val_loss:.3f}, Validation accuracy: {val_acc:.3f}')\n",
    "  return train_losses, train_accs, val_losses, val_accs"
   ]
  },
  {
   "cell_type": "code",
   "execution_count": null,
   "metadata": {},
   "outputs": [],
   "source": [
    "train_losses, train_accs, val_losses, val_accs = train_model(\n",
    "                                                     mlp_model, \n",
    "                                                     train_data, \n",
    "                                                     val_data, \n",
    "                                                     loss=cross_entropy_loss, acc=accuracy,\n",
    "                                                     optimizer=Adam(), \n",
    "                                                     epochs=10\n",
    "                                                 )"
   ]
  },
  {
   "cell_type": "code",
   "execution_count": null,
   "metadata": {},
   "outputs": [],
   "source": [
    "def plot_metrics(train_metric, val_metric, metric_type):\n",
    "  # Visualize metrics vs training Epochs\n",
    "  plt.figure()\n",
    "  plt.plot(range(len(train_metric)), train_metric, label = f'Training {metric_type}')\n",
    "  plt.plot(range(len(val_metric)), val_metric, label = f'Validation {metric_type}')\n",
    "  plt.xlabel('Epochs')\n",
    "  plt.ylabel(metric_type)\n",
    "  plt.legend()\n",
    "  plt.title(f'{metric_type} vs Training epochs');"
   ]
  },
  {
   "cell_type": "code",
   "execution_count": null,
   "metadata": {},
   "outputs": [],
   "source": [
    "plot_metrics(train_losses, val_losses, 'cross entropy loss')"
   ]
  },
  {
   "cell_type": "code",
   "execution_count": null,
   "metadata": {},
   "outputs": [],
   "source": [
    "plot_metrics(train_accs, val_accs, 'accuracy')"
   ]
  },
  {
   "cell_type": "code",
   "execution_count": null,
   "metadata": {},
   "outputs": [],
   "source": [
    "class ExportModule(tf.Module):\n",
    "  def __init__(self, model, preprocess, class_pred):\n",
    "    # Initialize pre and postprocessing functions\n",
    "    self.model = model\n",
    "    self.preprocess = preprocess\n",
    "    self.class_pred = class_pred\n",
    "\n",
    "  @tf.function(input_signature=[tf.TensorSpec(shape=[None, None, None, None], dtype=tf.uint8)]) \n",
    "  def __call__(self, x):\n",
    "    # Run the ExportModule for new data points\n",
    "    x = self.preprocess(x)\n",
    "    y = self.model(x)\n",
    "    y = self.class_pred(y)\n",
    "    return y"
   ]
  },
  {
   "cell_type": "code",
   "execution_count": null,
   "metadata": {},
   "outputs": [],
   "source": [
    "def preprocess_test(x):\n",
    "  # The export module takes in unprocessed and unlabeled data\n",
    "  x = tf.reshape(x, shape=[-1, 784])\n",
    "  x = x / 255\n",
    "  return x\n",
    "\n",
    "def class_pred_test(y):\n",
    "  # Generate class predictions from MLP output\n",
    "  return tf.argmax(tf.nn.softmax(y), axis=1)"
   ]
  },
  {
   "cell_type": "code",
   "execution_count": null,
   "metadata": {},
   "outputs": [],
   "source": [
    "mlp_model_export = ExportModule(\n",
    "                       model=mlp_model,\n",
    "                       preprocess=preprocess_test,\n",
    "                       class_pred=class_pred_test\n",
    "                   )"
   ]
  },
  {
   "cell_type": "code",
   "execution_count": null,
   "metadata": {},
   "outputs": [],
   "source": [
    "models = tempfile.mkdtemp()\n",
    "save_path = os.path.join(models, 'mlp_model_export')\n",
    "tf.saved_model.save(mlp_model_export, save_path)"
   ]
  },
  {
   "cell_type": "code",
   "execution_count": null,
   "metadata": {},
   "outputs": [],
   "source": [
    "mlp_loaded = tf.saved_model.load(save_path)"
   ]
  },
  {
   "cell_type": "code",
   "execution_count": null,
   "metadata": {},
   "outputs": [],
   "source": [
    "def accuracy_score(y_pred, y):\n",
    "  # Generic accuracy function\n",
    "  is_equal = tf.equal(y_pred, y)\n",
    "  return tf.reduce_mean(tf.cast(is_equal, tf.float32))\n",
    "\n",
    "x_test, y_test = tfds.load('mnist', split=['test'], batch_size=-1, as_supervised=True)[0]\n",
    "test_classes = mlp_loaded(x_test)\n",
    "test_acc = accuracy_score(test_classes, y_test)\n",
    "print(f'Test Accuracy: {test_acc:.3f}')"
   ]
  },
  {
   "cell_type": "code",
   "execution_count": null,
   "metadata": {},
   "outputs": [],
   "source": [
    "print('Accuracy breakdown by digit:')\n",
    "print('---------------------------')\n",
    "label_accs = {}\n",
    "for label in range(10):\n",
    "  label_ind = (y_test == label)\n",
    "  # extract predictions for specific true label\n",
    "  pred_label = test_classes[label_ind]\n",
    "  labels = y_test[label_ind]\n",
    "  # compute class-wise accuracy\n",
    "  label_accs[accuracy_score(pred_label, labels).numpy()] = label\n",
    "for key in sorted(label_accs):\n",
    "  print(f'Digit {label_accs[key]}: {key:.3f}')"
   ]
  },
  {
   "cell_type": "code",
   "execution_count": null,
   "metadata": {},
   "outputs": [],
   "source": [
    "def show_confusion_matrix(test_labels, test_classes):\n",
    "  # Compute confusion matrix and normalize\n",
    "  plt.figure(figsize=(10,10))\n",
    "  confusion = sk_metrics.confusion_matrix(test_labels.numpy(), \n",
    "                                          test_classes.numpy())\n",
    "  confusion_normalized = confusion / confusion.sum(axis=1, keepdims=True)\n",
    "  axis_labels = range(10)\n",
    "  ax = sns.heatmap(\n",
    "      confusion_normalized, xticklabels=axis_labels, yticklabels=axis_labels,\n",
    "      cmap='Blues', annot=True, fmt='.4f', square=True)\n",
    "  plt.title('Confusion matrix')\n",
    "  plt.ylabel('True label')\n",
    "  plt.xlabel('Predicted label')\n",
    "\n",
    "show_confusion_matrix(y_test, test_classes)"
   ]
  },
  {
   "cell_type": "markdown",
   "metadata": {},
   "source": [
    "# Building a trainable multi layer perceptron (MLP) using stochastic auto grad (SAG)"
   ]
  },
  {
   "cell_type": "markdown",
   "metadata": {},
   "source": [
    "## Activation functions"
   ]
  },
  {
   "cell_type": "code",
   "execution_count": null,
   "metadata": {},
   "outputs": [],
   "source": [
    "def sigmoid(x, derivative=False):\n",
    "    '''\n",
    "    Parameters:\n",
    "      x: input\n",
    "      derivative: boolean to specify if the derivative of the function should be computed\n",
    "    '''\n",
    "    if derivative:\n",
    "        return (x * (1 - x))\n",
    "    return (1 / (1 + np.exp(-x)))\n",
    "\n",
    "def ReLU(x, derivative=False):\n",
    "  if derivative:\n",
    "      return np.where(x < 0, 0, 1)\n",
    "  x_relu = np.maximum(x, 0)\n",
    "  return x_relu\n",
    "\n",
    "def relu(x, derivative=False):\n",
    "  return ReLU(x, derivative=derivative)\n",
    "\n",
    "def tanh(x, derivative=False):\n",
    "    if (derivative == True):\n",
    "        return (1 - (x ** 2))\n",
    "    return np.tanh(x)"
   ]
  },
  {
   "cell_type": "markdown",
   "metadata": {},
   "source": [
    "## Function to return one-hot-encoded labels"
   ]
  },
  {
   "cell_type": "code",
   "execution_count": null,
   "metadata": {},
   "outputs": [],
   "source": [
    "def one_hot_encoded_labels(labels):\n",
    "    out_labels = []\n",
    "    max_val = max(labels) + 1\n",
    "    for label in labels:\n",
    "        out_labels.append([1 if label == i else 0 for i in range(max_val)])\n",
    "    return np.array(out_labels)"
   ]
  },
  {
   "cell_type": "markdown",
   "metadata": {},
   "source": [
    "## Function to compute the partial derivative using stochastic automatic differentiation"
   ]
  },
  {
   "cell_type": "code",
   "execution_count": null,
   "metadata": {},
   "outputs": [],
   "source": [
    "def compute_stochastic_auto_differentiation(x, input_fn, epsilon, num_eval_steps=10):\n",
    "    auto_diff_out = 0\n",
    "    for i in range(num_eval_steps):\n",
    "        fn_x = input_fn(x)\n",
    "\n",
    "        rand_epsilon_a = random.SystemRandom().uniform(abs(epsilon), (abs(epsilon) / 100))\n",
    "        rand_epsilon_b = random.SystemRandom().uniform(abs(epsilon), (abs(epsilon) / 100))\n",
    "\n",
    "        x_a = x + rand_epsilon_a\n",
    "        x_b = x + rand_epsilon_b\n",
    "\n",
    "        x_delta = x_a - x_b\n",
    "        \n",
    "        fn_auto_diff_a = input_fn(x_a)\n",
    "        fn_auto_diff_b = input_fn(x_b)\n",
    "\n",
    "        auto_diff_out += (fn_auto_diff_a - fn_auto_diff_b) / x_delta\n",
    "        auto_diff_out += (fn_auto_diff_a - fn_x)           / rand_epsilon_a\n",
    "        auto_diff_out += (fn_auto_diff_b - fn_x)           / rand_epsilon_b\n",
    "\n",
    "    auto_diff_out = auto_diff_out / (3 * num_eval_steps)\n",
    "\n",
    "    return auto_diff_out"
   ]
  },
  {
   "cell_type": "markdown",
   "metadata": {},
   "source": [
    "## Stochastic automatic gradient (SAG) for a neural network\n",
    "Function to compute the layer gradient using stochastic automatic differentiation."
   ]
  },
  {
   "cell_type": "code",
   "execution_count": null,
   "metadata": {},
   "outputs": [],
   "source": [
    "def stochastic_auto_gradient(layer, layer_error, activation_fn, epsilon):\n",
    "    return layer_error * compute_stochastic_auto_differentiation(layer, activation_fn, epsilon)"
   ]
  },
  {
   "cell_type": "markdown",
   "metadata": {},
   "source": [
    "## Training layers using forward pass and back-propagation"
   ]
  },
  {
   "cell_type": "code",
   "execution_count": null,
   "metadata": {},
   "outputs": [],
   "source": [
    "def forward_pass(input_data, synapse_list, bias_val_list, activation_fn):\n",
    "    layer_list = [input_data]\n",
    "    for i, synapse in enumerate(synapse_list):\n",
    "        layer_list.append(activation_fn(np.dot(layer_list[i], synapse) + bias_val_list[i]))\n",
    "    return layer_list\n",
    "\n",
    "def back_propagation(output_data, layer_list, synapse_list, learning_rate, verbose=False):\n",
    "    output_loss_derivative = output_data - layer_list[-1]\n",
    "    bprop_loss = np.mean(np.abs(output_loss_derivative))\n",
    "    if verbose:\n",
    "        print ('Prediction error during training : ' + str(bprop_loss))\n",
    "\n",
    "    layer_error = learning_rate * output_loss_derivative\n",
    "\n",
    "    synapse_list = list(reversed(synapse_list))\n",
    "    layer_list = list(reversed(layer_list))\n",
    "\n",
    "    for i, layer in enumerate(layer_list):\n",
    "        if i + 1 < len(layer_list):\n",
    "            layer_delta = stochastic_auto_gradient(layer, layer_error, activation_fn, 1e-8)\n",
    "            layer_error = layer_delta.dot(synapse_list[i].T)\n",
    "            synapse_list[i] += layer_list[i + 1].T.dot(layer_delta)\n",
    "\n",
    "    synapse_list = list(reversed(synapse_list))\n",
    "    layer_list = list(reversed(layer_list))\n",
    "\n",
    "    return synapse_list, layer_list, bprop_loss"
   ]
  },
  {
   "cell_type": "markdown",
   "metadata": {},
   "source": [
    "## Train XOR gate solver"
   ]
  },
  {
   "cell_type": "code",
   "execution_count": null,
   "metadata": {},
   "outputs": [],
   "source": [
    "x = np.asarray([[0, 0],\n",
    "                [1, 1],\n",
    "                [1, 0],\n",
    "                [0, 1]])\n",
    "y = np.asarray([[0],\n",
    "                [0],\n",
    "                [1],\n",
    "                [1]])\n",
    "\n",
    "print(x.shape, y.shape)\n",
    "\n",
    "input_dim = x.shape[1]\n",
    "output_dim = y.shape[1]\n",
    "hidden_units_list = [input_dim, 8, output_dim]\n",
    "bias_val_list = [1, 1, 1, 1]\n",
    "synapse_list = []\n",
    "for i, unit_size in enumerate(hidden_units_list):\n",
    "    if i + 1 < len(hidden_units_list):\n",
    "        synapse_list.append(2 * np.random.random((unit_size, hidden_units_list[i + 1])) - bias_val_list[i])\n",
    "\n",
    "print(synapse_list[0].shape)\n",
    "\n",
    "training_steps = 10000\n",
    "\n",
    "loss_col = []\n",
    "learning_rate = 1\n",
    "activation_fn = sigmoid # tanh # relu # \n",
    "\n",
    "for t in range(training_steps):\n",
    "    input_data, output_data = x, y\n",
    "    layer_list = forward_pass(input_data, synapse_list, bias_val_list, activation_fn)\n",
    "    synapse_list, layer_list, loss = back_propagation(output_data, layer_list, synapse_list, learning_rate, verbose=(t + 1) % (0.1 * training_steps) == 0)\n",
    "    loss_col.append(bprop_loss)\n",
    "print ('Training completed ...')\n",
    "print (layer_list[-1])"
   ]
  },
  {
   "cell_type": "markdown",
   "metadata": {},
   "source": [
    "## Train MNIST classifier"
   ]
  },
  {
   "cell_type": "code",
   "execution_count": null,
   "metadata": {},
   "outputs": [],
   "source": [
    "input_dim = 28 * 28\n",
    "output_dim = 10\n",
    "\n",
    "hidden_units_list = [input_dim, 16, 32, output_dim]\n",
    "bias_val_list = [1, 1, 1, 1]\n",
    "synapse_list = []\n",
    "for i, unit_size in enumerate(hidden_units_list):\n",
    "    if i + 1 < len(hidden_units_list):\n",
    "        synapse_list.append(2 * np.random.random((unit_size, hidden_units_list[i + 1])) - bias_val_list[i])\n",
    "\n",
    "loss_col = []\n",
    "\n",
    "training_steps = 32\n",
    "learning_rate = 1e-3\n",
    "activation_fn = sigmoid # tanh # relu #\n",
    "\n",
    "best_synapse_list, best_layer_list = [], []\n",
    "loss_plateau_patience = 5\n",
    "loss_plateau = 0\n",
    "for t in range(training_steps):\n",
    "    for x_batch, y_batch in train_data:\n",
    "        input_data, output_data = x_batch.numpy(), y_batch.numpy()\n",
    "        if loss_plateau_patience < loss_plateau and len(best_synapse_list) > 0:\n",
    "            layer_list = forward_pass(input_data, best_synapse_list, bias_val_list, activation_fn)\n",
    "        else:\n",
    "            layer_list = forward_pass(input_data, synapse_list, bias_val_list, activation_fn)\n",
    "        output_data = one_hot_encoded_labels(output_data)\n",
    "        synapse_list, layer_list, loss = back_propagation(output_data, layer_list, synapse_list, learning_rate)\n",
    "        if len(loss_col) > 0 and loss < min(loss_col) and loss_plateau > 0:\n",
    "            best_synapse_list, best_layer_list = synapse_list, layer_list\n",
    "        else:\n",
    "            loss_plateau += 1\n",
    "        loss_col.append(loss)\n",
    "print ('Training completed ...')"
   ]
  },
  {
   "cell_type": "code",
   "execution_count": null,
   "metadata": {},
   "outputs": [],
   "source": [
    "for i in range(10):\n",
    "    print(np.argmax(forward_pass(input_data[i], best_synapse_list, bias_val_list, activation_fn)[-1]), y_batch.numpy()[i])\n",
    "    plt.imshow(input_data[i].reshape(28, 28))\n",
    "    plt.show()"
   ]
  },
  {
   "cell_type": "code",
   "execution_count": null,
   "metadata": {},
   "outputs": [],
   "source": []
  }
 ],
 "metadata": {
  "kaggle": {
   "accelerator": "none",
   "dataSources": [],
   "dockerImageVersionId": 31040,
   "isGpuEnabled": false,
   "isInternetEnabled": true,
   "language": "python",
   "sourceType": "notebook"
  },
  "kernelspec": {
   "display_name": "Python 3 (ipykernel)",
   "language": "python",
   "name": "python3"
  },
  "language_info": {
   "codemirror_mode": {
    "name": "ipython",
    "version": 3
   },
   "file_extension": ".py",
   "mimetype": "text/x-python",
   "name": "python",
   "nbconvert_exporter": "python",
   "pygments_lexer": "ipython3",
   "version": "3.12.7"
  }
 },
 "nbformat": 4,
 "nbformat_minor": 4
}
