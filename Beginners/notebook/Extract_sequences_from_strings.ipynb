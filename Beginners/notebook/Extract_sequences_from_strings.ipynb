{
 "cells": [
  {
   "cell_type": "markdown",
   "metadata": {},
   "source": [
    "# Extract longest alphabetical sequences from a string\n",
    "\n",
    "Given an input string of alphabets, fetch the longest alphabetical sequence"
   ]
  },
  {
   "cell_type": "code",
   "execution_count": 1,
   "metadata": {},
   "outputs": [],
   "source": [
    "class StringSearch():\n",
    "  def __init__(self,input_string):\n",
    "    self.input_string=input_string\n",
    "  def extract_sequences(self):\n",
    "    elems=[str(i) for i in self.input_string];uniq=list(set(elems));uniq.sort()  \n",
    "    e_idx,strs,sub_strs=[],[],[]\n",
    "    [[e_idx .append(i) for i,u in enumerate(uniq) if e==u] for e in elems]\n",
    "    for i,idx in enumerate(e_idx):\n",
    "      if i<(len(e_idx)-1) and idx<=e_idx[i+1]:\n",
    "        sub_strs.append(uniq[idx])  \n",
    "      else: \n",
    "        sub_strs.append(uniq[idx]);strs.append(sub_strs);sub_strs=[]       \n",
    "    out_strs=[''.join(strs[i]) for i,e in enumerate(strs) if [len(sl) for sl in strs][i]==max([len(sl) for sl in strs])]\n",
    "    return out_strs"
   ]
  },
  {
   "cell_type": "code",
   "execution_count": 2,
   "metadata": {},
   "outputs": [
    {
     "name": "stdout",
     "output_type": "stream",
     "text": [
      "cppruvx\n",
      "aoppqwx\n",
      "aacdejz\n"
     ]
    }
   ],
   "source": [
    "in_str='cobtcppruvxwaoppqwxrdatmnklafhiaacdejz'\n",
    "ss=StringSearch(in_str)\n",
    "_=[print(s) for s in ss.extract_sequences()]"
   ]
  },
  {
   "cell_type": "code",
   "execution_count": null,
   "metadata": {},
   "outputs": [],
   "source": []
  }
 ],
 "metadata": {
  "kernelspec": {
   "display_name": "Python 3",
   "language": "python",
   "name": "python3"
  },
  "language_info": {
   "codemirror_mode": {
    "name": "ipython",
    "version": 3
   },
   "file_extension": ".py",
   "mimetype": "text/x-python",
   "name": "python",
   "nbconvert_exporter": "python",
   "pygments_lexer": "ipython3",
   "version": "3.7.6"
  }
 },
 "nbformat": 4,
 "nbformat_minor": 4
}
